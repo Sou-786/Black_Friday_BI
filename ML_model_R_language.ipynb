{
  "nbformat": 4,
  "nbformat_minor": 0,
  "metadata": {
    "colab": {
      "name": "ML model_R_language",
      "provenance": []
    },
    "kernelspec": {
      "name": "ir",
      "display_name": "R"
    },
    "language_info": {
      "name": "R"
    },
    "accelerator": "GPU"
  },
  "cells": [
    {
      "cell_type": "code",
      "metadata": {
        "colab": {
          "base_uri": "https://localhost:8080/"
        },
        "id": "_lqEyx4s9WWD",
        "outputId": "01ca2264-f9ef-4e35-a135-3d7663e5f245"
      },
      "source": [
        "install.packages(\"UsingR\")\n",
        "library(UsingR)\n",
        "install.packages(\"dplyr\")\n",
        "library(dplyr)\n",
        "install.packages(\"Amelia\")\n",
        "library(Amelia)\n",
        "install.packages(\"caTools\")\n",
        "library(caTools)\n",
        "install.packages(\"rpart\")\n",
        "library(rpart)\n",
        "install.packages(\"rpart.plot\")\n",
        "library(rpart.plot)"
      ],
      "execution_count": 1,
      "outputs": [
        {
          "output_type": "stream",
          "name": "stderr",
          "text": [
            "Installing package into ‘/usr/local/lib/R/site-library’\n",
            "(as ‘lib’ is unspecified)\n",
            "\n",
            "also installing the dependencies ‘png’, ‘jpeg’, ‘checkmate’, ‘htmlwidgets’, ‘Formula’, ‘latticeExtra’, ‘gridExtra’, ‘htmlTable’, ‘viridis’, ‘HistData’, ‘Hmisc’\n",
            "\n",
            "\n",
            "Loading required package: MASS\n",
            "\n",
            "Loading required package: HistData\n",
            "\n",
            "Loading required package: Hmisc\n",
            "\n",
            "Loading required package: lattice\n",
            "\n",
            "Loading required package: survival\n",
            "\n",
            "Loading required package: Formula\n",
            "\n",
            "Loading required package: ggplot2\n",
            "\n",
            "\n",
            "Attaching package: ‘Hmisc’\n",
            "\n",
            "\n",
            "The following objects are masked from ‘package:base’:\n",
            "\n",
            "    format.pval, units\n",
            "\n",
            "\n",
            "\n",
            "Attaching package: ‘UsingR’\n",
            "\n",
            "\n",
            "The following object is masked from ‘package:survival’:\n",
            "\n",
            "    cancer\n",
            "\n",
            "\n",
            "Installing package into ‘/usr/local/lib/R/site-library’\n",
            "(as ‘lib’ is unspecified)\n",
            "\n",
            "\n",
            "Attaching package: ‘dplyr’\n",
            "\n",
            "\n",
            "The following objects are masked from ‘package:Hmisc’:\n",
            "\n",
            "    src, summarize\n",
            "\n",
            "\n",
            "The following object is masked from ‘package:MASS’:\n",
            "\n",
            "    select\n",
            "\n",
            "\n",
            "The following objects are masked from ‘package:stats’:\n",
            "\n",
            "    filter, lag\n",
            "\n",
            "\n",
            "The following objects are masked from ‘package:base’:\n",
            "\n",
            "    intersect, setdiff, setequal, union\n",
            "\n",
            "\n",
            "Installing package into ‘/usr/local/lib/R/site-library’\n",
            "(as ‘lib’ is unspecified)\n",
            "\n",
            "also installing the dependency ‘RcppArmadillo’\n",
            "\n",
            "\n",
            "Loading required package: Rcpp\n",
            "\n",
            "## \n",
            "## Amelia II: Multiple Imputation\n",
            "## (Version 1.8.0, built: 2021-05-26)\n",
            "## Copyright (C) 2005-2021 James Honaker, Gary King and Matthew Blackwell\n",
            "## Refer to http://gking.harvard.edu/amelia/ for more information\n",
            "## \n",
            "\n",
            "Installing package into ‘/usr/local/lib/R/site-library’\n",
            "(as ‘lib’ is unspecified)\n",
            "\n",
            "also installing the dependency ‘bitops’\n",
            "\n",
            "\n",
            "Installing package into ‘/usr/local/lib/R/site-library’\n",
            "(as ‘lib’ is unspecified)\n",
            "\n",
            "Installing package into ‘/usr/local/lib/R/site-library’\n",
            "(as ‘lib’ is unspecified)\n",
            "\n"
          ]
        }
      ]
    },
    {
      "cell_type": "code",
      "metadata": {
        "id": "Q9jR5KOO7Yv0"
      },
      "source": [
        "df<-read.csv(\"/content/Sales_train.csv\")\n"
      ],
      "execution_count": 2,
      "outputs": []
    },
    {
      "cell_type": "code",
      "metadata": {
        "colab": {
          "base_uri": "https://localhost:8080/"
        },
        "id": "SJaGhd_X9Uj0",
        "outputId": "b186d4d6-708a-4b5f-ef36-a88819e38a8d"
      },
      "source": [
        "str(df)"
      ],
      "execution_count": 3,
      "outputs": [
        {
          "output_type": "stream",
          "name": "stdout",
          "text": [
            "'data.frame':\t550068 obs. of  12 variables:\n",
            " $ User_ID                   : int  1000001 1000001 1000001 1000001 1000002 1000003 1000004 1000004 1000004 1000005 ...\n",
            " $ Product_ID                : chr  \"P00069042\" \"P00248942\" \"P00087842\" \"P00085442\" ...\n",
            " $ Gender                    : chr  \"F\" \"F\" \"F\" \"F\" ...\n",
            " $ Age                       : chr  \"0-17\" \"0-17\" \"0-17\" \"0-17\" ...\n",
            " $ Occupation                : int  10 10 10 10 16 15 7 7 7 20 ...\n",
            " $ City_Category             : chr  \"A\" \"A\" \"A\" \"A\" ...\n",
            " $ Stay_In_Current_City_Years: chr  \"2\" \"2\" \"2\" \"2\" ...\n",
            " $ Marital_Status            : int  0 0 0 0 0 0 1 1 1 1 ...\n",
            " $ Product_Category_1        : int  3 1 12 12 8 1 1 1 1 8 ...\n",
            " $ Product_Category_2        : int  NA 6 NA 14 NA 2 8 15 16 NA ...\n",
            " $ Product_Category_3        : int  NA 14 NA NA NA NA 17 NA NA NA ...\n",
            " $ Purchase                  : int  8370 15200 1422 1057 7969 15227 19215 15854 15686 7871 ...\n"
          ]
        }
      ]
    },
    {
      "cell_type": "code",
      "metadata": {
        "id": "tEkg2wqlFKhH"
      },
      "source": [
        "df$User_ID <- as.factor(df$User_ID)\n",
        "df$Product_ID <- as.factor(df$Product_ID)\n",
        "df$Gender <- as.numeric(ifelse(df$Gender==\"M\", 1, 0))\n",
        "df$Product_Category_1 <- as.numeric(df$Product_Category_1)\n",
        "\n",
        "df$Marital_Status <- as.numeric(df$Marital_Status)\n",
        "df$City_Category <- as.numeric(ifelse(df$City_Category=='A', 1, ifelse(df$City_Category=='B', 2, 3)))\n",
        "df$Occupation <- as.numeric(df$Occupation)\n",
        "df$Stay_In_Current_City_Years = as.numeric(ifelse(df$Stay_In_Current_City_Years=='4+', 6, df$Stay_In_Current_City_Years))\n",
        "df$Age <- as.numeric(ifelse(df$Age=='0-17', 17, ifelse(df$Age=='18-25', 25, ifelse(df$Age=='26-35', 35, ifelse(df$Age=='36-45', 45, ifelse(df$Age=='46-50', 50, ifelse(df$Age=='51-55', 55, 65)))))))\n",
        "df$Product_ID <- NULL\n",
        "df$User_ID <- NULL\n",
        "df$Product_Category_2 <- NULL\n",
        "df$Product_Category_3 <- NULL"
      ],
      "execution_count": 4,
      "outputs": []
    },
    {
      "cell_type": "code",
      "metadata": {
        "id": "heoMhGkNIMpJ"
      },
      "source": [
        "#Split data\n",
        "set.seed(101)\n",
        "sample <- sample.split(df$Purchase, SplitRatio = .7)\n",
        "train <- subset(df, sample == T)\n",
        "test <- subset(df, sample == F)"
      ],
      "execution_count": 5,
      "outputs": []
    },
    {
      "cell_type": "markdown",
      "metadata": {
        "id": "RZV2IEM4K_-W"
      },
      "source": [
        "## Linear Regression"
      ]
    },
    {
      "cell_type": "code",
      "metadata": {
        "colab": {
          "base_uri": "https://localhost:8080/",
          "height": 453
        },
        "id": "xuihrld6K5jl",
        "outputId": "78561dc9-f5b2-4517-d337-0c74c6c46a3b"
      },
      "source": [
        "model <- lm(Purchase ~., train)\n",
        "summary(model)"
      ],
      "execution_count": 6,
      "outputs": [
        {
          "output_type": "display_data",
          "data": {
            "text/plain": [
              "\n",
              "Call:\n",
              "lm(formula = Purchase ~ ., data = train)\n",
              "\n",
              "Residuals:\n",
              "     Min       1Q   Median       3Q      Max \n",
              "-10063.0  -3128.3   -640.6   2237.8  17549.5 \n",
              "\n",
              "Coefficients:\n",
              "                            Estimate Std. Error  t value Pr(>|t|)    \n",
              "(Intercept)                9915.8779    38.1958  259.606  < 2e-16 ***\n",
              "Gender                      507.7983    17.7115   28.671  < 2e-16 ***\n",
              "Age                          14.2168     0.7456   19.069  < 2e-16 ***\n",
              "Occupation                    6.7011     1.1764    5.696 1.22e-08 ***\n",
              "City_Category               361.1273    10.0406   35.967  < 2e-16 ***\n",
              "Stay_In_Current_City_Years    2.2177     4.0523    0.547 0.584190    \n",
              "Marital_Status              -56.1702    16.1794   -3.472 0.000517 ***\n",
              "Product_Category_1         -435.1868     1.9293 -225.562  < 2e-16 ***\n",
              "---\n",
              "Signif. codes:  0 ‘***’ 0.001 ‘**’ 0.01 ‘*’ 0.05 ‘.’ 0.1 ‘ ’ 1\n",
              "\n",
              "Residual standard error: 4703 on 385079 degrees of freedom\n",
              "Multiple R-squared:  0.1236,\tAdjusted R-squared:  0.1236 \n",
              "F-statistic:  7756 on 7 and 385079 DF,  p-value: < 2.2e-16\n"
            ]
          },
          "metadata": {}
        }
      ]
    },
    {
      "cell_type": "code",
      "metadata": {
        "colab": {
          "base_uri": "https://localhost:8080/",
          "height": 255
        },
        "id": "DyS6nq_vK5mA",
        "outputId": "8c23b42a-13b5-49b3-862f-dddfdba2888c"
      },
      "source": [
        "predict <- predict(model, test[,-8])  \n",
        "results <- cbind(predict, test$Purchase)\n",
        "colnames(results) <- c('pred','real')\n",
        "head(results)"
      ],
      "execution_count": 7,
      "outputs": [
        {
          "output_type": "display_data",
          "data": {
            "text/plain": [
              "   pred      real \n",
              "5   9070.181  7969\n",
              "8  11416.758 15854\n",
              "9  11416.758 15686\n",
              "10  7880.967  7871\n",
              "12  7880.967  3957\n",
              "16  9380.711  2079"
            ],
            "text/latex": "A matrix: 6 × 2 of type dbl\n\\begin{tabular}{r|ll}\n  & pred & real\\\\\n\\hline\n\t5 &  9070.181 &  7969\\\\\n\t8 & 11416.758 & 15854\\\\\n\t9 & 11416.758 & 15686\\\\\n\t10 &  7880.967 &  7871\\\\\n\t12 &  7880.967 &  3957\\\\\n\t16 &  9380.711 &  2079\\\\\n\\end{tabular}\n",
            "text/markdown": "\nA matrix: 6 × 2 of type dbl\n\n| <!--/--> | pred | real |\n|---|---|---|\n| 5 |  9070.181 |  7969 |\n| 8 | 11416.758 | 15854 |\n| 9 | 11416.758 | 15686 |\n| 10 |  7880.967 |  7871 |\n| 12 |  7880.967 |  3957 |\n| 16 |  9380.711 |  2079 |\n\n",
            "text/html": [
              "<table class=\"dataframe\">\n",
              "<caption>A matrix: 6 × 2 of type dbl</caption>\n",
              "<thead>\n",
              "\t<tr><th></th><th scope=col>pred</th><th scope=col>real</th></tr>\n",
              "</thead>\n",
              "<tbody>\n",
              "\t<tr><th scope=row>5</th><td> 9070.181</td><td> 7969</td></tr>\n",
              "\t<tr><th scope=row>8</th><td>11416.758</td><td>15854</td></tr>\n",
              "\t<tr><th scope=row>9</th><td>11416.758</td><td>15686</td></tr>\n",
              "\t<tr><th scope=row>10</th><td> 7880.967</td><td> 7871</td></tr>\n",
              "\t<tr><th scope=row>12</th><td> 7880.967</td><td> 3957</td></tr>\n",
              "\t<tr><th scope=row>16</th><td> 9380.711</td><td> 2079</td></tr>\n",
              "</tbody>\n",
              "</table>\n"
            ]
          },
          "metadata": {}
        }
      ]
    },
    {
      "cell_type": "code",
      "metadata": {
        "colab": {
          "base_uri": "https://localhost:8080/",
          "height": 34
        },
        "id": "Jl-qBHZWK5pg",
        "outputId": "b636a0dc-0d39-4a74-de5e-b9b1d26f3905"
      },
      "source": [
        "results <- as.data.frame(results)\n",
        "sqrt(mean((results$real - results$pred)^2))"
      ],
      "execution_count": 8,
      "outputs": [
        {
          "output_type": "display_data",
          "data": {
            "text/plain": [
              "[1] 4694.309"
            ],
            "text/latex": "4694.30927201267",
            "text/markdown": "4694.30927201267",
            "text/html": [
              "4694.30927201267"
            ]
          },
          "metadata": {}
        }
      ]
    },
    {
      "cell_type": "markdown",
      "metadata": {
        "id": "yzhpNcKJOIis"
      },
      "source": [
        "The Linear Regression reports rmse of 4694.309"
      ]
    },
    {
      "cell_type": "markdown",
      "metadata": {
        "id": "k4HoU8xhOX1T"
      },
      "source": [
        "## Decission Tree"
      ]
    },
    {
      "cell_type": "code",
      "metadata": {
        "colab": {
          "base_uri": "https://localhost:8080/",
          "height": 437
        },
        "id": "AEa69I0EOHfr",
        "outputId": "2ca7f15e-3b6d-45c0-bf18-dbe321a1d4f2"
      },
      "source": [
        "tree <- rpart(Purchase ~., method = 'anova',train)\n",
        "prp(tree)"
      ],
      "execution_count": 9,
      "outputs": [
        {
          "output_type": "display_data",
          "data": {
            "image/png": "[encoded data removed]",
            "text/plain": [
              "plot without title"
            ]
          },
          "metadata": {
            "image/png": {
              "width": 420,
              "height": 420
            }
          }
        }
      ]
    },
    {
      "cell_type": "code",
      "metadata": {
        "colab": {
          "base_uri": "https://localhost:8080/",
          "height": 303
        },
        "id": "kCiydiyqOfvE",
        "outputId": "0fe4c0b4-3b6a-4fce-87e2-ce5e422adb3c"
      },
      "source": [
        "predicted <- predict(tree, test[,-8])\n",
        "predicted <- as.data.frame(predicted)\n",
        "head(predicted)"
      ],
      "execution_count": 10,
      "outputs": [
        {
          "output_type": "display_data",
          "data": {
            "text/plain": [
              "   predicted\n",
              "5   7500.297\n",
              "8  13267.886\n",
              "9  13267.886\n",
              "10  7500.297\n",
              "12  7500.297\n",
              "16  2322.340"
            ],
            "text/latex": "A data.frame: 6 × 1\n\\begin{tabular}{r|l}\n  & predicted\\\\\n  & <dbl>\\\\\n\\hline\n\t5 &  7500.297\\\\\n\t8 & 13267.886\\\\\n\t9 & 13267.886\\\\\n\t10 &  7500.297\\\\\n\t12 &  7500.297\\\\\n\t16 &  2322.340\\\\\n\\end{tabular}\n",
            "text/markdown": "\nA data.frame: 6 × 1\n\n| <!--/--> | predicted &lt;dbl&gt; |\n|---|---|\n| 5 |  7500.297 |\n| 8 | 13267.886 |\n| 9 | 13267.886 |\n| 10 |  7500.297 |\n| 12 |  7500.297 |\n| 16 |  2322.340 |\n\n",
            "text/html": [
              "<table class=\"dataframe\">\n",
              "<caption>A data.frame: 6 × 1</caption>\n",
              "<thead>\n",
              "\t<tr><th></th><th scope=col>predicted</th></tr>\n",
              "\t<tr><th></th><th scope=col>&lt;dbl&gt;</th></tr>\n",
              "</thead>\n",
              "<tbody>\n",
              "\t<tr><th scope=row>5</th><td> 7500.297</td></tr>\n",
              "\t<tr><th scope=row>8</th><td>13267.886</td></tr>\n",
              "\t<tr><th scope=row>9</th><td>13267.886</td></tr>\n",
              "\t<tr><th scope=row>10</th><td> 7500.297</td></tr>\n",
              "\t<tr><th scope=row>12</th><td> 7500.297</td></tr>\n",
              "\t<tr><th scope=row>16</th><td> 2322.340</td></tr>\n",
              "</tbody>\n",
              "</table>\n"
            ]
          },
          "metadata": {}
        }
      ]
    },
    {
      "cell_type": "code",
      "metadata": {
        "colab": {
          "base_uri": "https://localhost:8080/",
          "height": 34
        },
        "id": "2FdlHVt7OhSg",
        "outputId": "874f932b-e28b-45d7-b73a-9fd8ce1aa790"
      },
      "source": [
        "result <- cbind(test$Purchase, predicted$predicted)\n",
        "colnames(result) <- c('real','pred')\n",
        "result <- as.data.frame(result)\n",
        "sqrt(mean((result$real - result$pred)^2))"
      ],
      "execution_count": 11,
      "outputs": [
        {
          "output_type": "display_data",
          "data": {
            "text/plain": [
              "[1] 3099.602"
            ],
            "text/latex": "3099.6021166095",
            "text/markdown": "3099.6021166095",
            "text/html": [
              "3099.6021166095"
            ]
          },
          "metadata": {}
        }
      ]
    }
  ]
}