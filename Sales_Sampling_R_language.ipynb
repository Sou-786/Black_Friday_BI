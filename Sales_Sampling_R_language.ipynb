{
  "nbformat": 4,
  "nbformat_minor": 0,
  "metadata": {
    "colab": {
      "name": "Sales_Sampling R_language.ipynb",
      "provenance": [],
      "collapsed_sections": []
    },
    "kernelspec": {
      "name": "ir",
      "display_name": "R"
    },
    "language_info": {
      "name": "R"
    }
  },
  "cells": [
    {
      "cell_type": "code",
      "metadata": {
        "colab": {
          "base_uri": "https://localhost:8080/"
        },
        "id": "MCikNZMRPQCr",
        "outputId": "b1067226-7378-4fe6-f0b6-f7f8511844de"
      },
      "source": [
        "install.packages(\"UsingR\")\n",
        "library(UsingR)\n",
        "install.packages(\"sampling\")\n",
        "library(sampling)\n",
        "install.packages(\"stringr\")\n",
        "library(stringr)  # for STRING operations\n",
        "install.packages(\"tidyverse\")\n",
        "library(tidyverse)  # to work with TIBBLE\n",
        "install.packages(\"stats\")\n",
        "library(stats)\n",
        "install.packages(\"prob\")\n",
        "library(prob)\n",
        "install.packages(\"dtplyr\")\n",
        "library(dtplyr)\n",
        "install.packages(\"dbplyr\")\n",
        "library(dbplyr)"
      ],
      "execution_count": 1,
      "outputs": [
        {
          "output_type": "stream",
          "name": "stderr",
          "text": [
            "Installing package into ‘/usr/local/lib/R/site-library’\n",
            "(as ‘lib’ is unspecified)\n",
            "\n",
            "Loading required package: MASS\n",
            "\n",
            "Loading required package: HistData\n",
            "\n",
            "Loading required package: Hmisc\n",
            "\n",
            "Loading required package: lattice\n",
            "\n",
            "Loading required package: survival\n",
            "\n",
            "Loading required package: Formula\n",
            "\n",
            "Loading required package: ggplot2\n",
            "\n",
            "\n",
            "Attaching package: ‘Hmisc’\n",
            "\n",
            "\n",
            "The following objects are masked from ‘package:base’:\n",
            "\n",
            "    format.pval, units\n",
            "\n",
            "\n",
            "\n",
            "Attaching package: ‘UsingR’\n",
            "\n",
            "\n",
            "The following object is masked from ‘package:survival’:\n",
            "\n",
            "    cancer\n",
            "\n",
            "\n",
            "Installing package into ‘/usr/local/lib/R/site-library’\n",
            "(as ‘lib’ is unspecified)\n",
            "\n",
            "\n",
            "Attaching package: ‘sampling’\n",
            "\n",
            "\n",
            "The following objects are masked from ‘package:survival’:\n",
            "\n",
            "    cluster, strata\n",
            "\n",
            "\n",
            "Installing package into ‘/usr/local/lib/R/site-library’\n",
            "(as ‘lib’ is unspecified)\n",
            "\n",
            "Installing package into ‘/usr/local/lib/R/site-library’\n",
            "(as ‘lib’ is unspecified)\n",
            "\n",
            "Warning message in system(\"timedatectl\", intern = TRUE):\n",
            "“running command 'timedatectl' had status 1”\n",
            "── \u001b[1mAttaching packages\u001b[22m ─────────────────────────────────────── tidyverse 1.3.1 ──\n",
            "\n",
            "\u001b[32m✔\u001b[39m \u001b[34mtibble \u001b[39m 3.1.4     \u001b[32m✔\u001b[39m \u001b[34mpurrr  \u001b[39m 0.3.4\n",
            "\u001b[32m✔\u001b[39m \u001b[34mtidyr  \u001b[39m 1.1.3     \u001b[32m✔\u001b[39m \u001b[34mdplyr  \u001b[39m 1.0.7\n",
            "\u001b[32m✔\u001b[39m \u001b[34mreadr  \u001b[39m 2.0.1     \u001b[32m✔\u001b[39m \u001b[34mforcats\u001b[39m 0.5.1\n",
            "\n",
            "── \u001b[1mConflicts\u001b[22m ────────────────────────────────────────── tidyverse_conflicts() ──\n",
            "\u001b[31m✖\u001b[39m \u001b[34mdplyr\u001b[39m::\u001b[32mfilter()\u001b[39m    masks \u001b[34mstats\u001b[39m::filter()\n",
            "\u001b[31m✖\u001b[39m \u001b[34mdplyr\u001b[39m::\u001b[32mlag()\u001b[39m       masks \u001b[34mstats\u001b[39m::lag()\n",
            "\u001b[31m✖\u001b[39m \u001b[34mdplyr\u001b[39m::\u001b[32mselect()\u001b[39m    masks \u001b[34mMASS\u001b[39m::select()\n",
            "\u001b[31m✖\u001b[39m \u001b[34mdplyr\u001b[39m::\u001b[32msrc()\u001b[39m       masks \u001b[34mHmisc\u001b[39m::src()\n",
            "\u001b[31m✖\u001b[39m \u001b[34mdplyr\u001b[39m::\u001b[32msummarize()\u001b[39m masks \u001b[34mHmisc\u001b[39m::summarize()\n",
            "\n",
            "Installing package into ‘/usr/local/lib/R/site-library’\n",
            "(as ‘lib’ is unspecified)\n",
            "\n",
            "Warning message:\n",
            "“package ‘stats’ is a base package, and should not be updated”\n",
            "Installing package into ‘/usr/local/lib/R/site-library’\n",
            "(as ‘lib’ is unspecified)\n",
            "\n",
            "Loading required package: combinat\n",
            "\n",
            "\n",
            "Attaching package: ‘combinat’\n",
            "\n",
            "\n",
            "The following object is masked from ‘package:utils’:\n",
            "\n",
            "    combn\n",
            "\n",
            "\n",
            "Loading required package: fAsianOptions\n",
            "\n",
            "Loading required package: timeDate\n",
            "\n",
            "Loading required package: timeSeries\n",
            "\n",
            "Loading required package: fBasics\n",
            "\n",
            "Loading required package: fOptions\n",
            "\n",
            "\n",
            "Attaching package: ‘prob’\n",
            "\n",
            "\n",
            "The following objects are masked from ‘package:dplyr’:\n",
            "\n",
            "    intersect, setdiff, union\n",
            "\n",
            "\n",
            "The following objects are masked from ‘package:base’:\n",
            "\n",
            "    intersect, setdiff, union\n",
            "\n",
            "\n",
            "Installing package into ‘/usr/local/lib/R/site-library’\n",
            "(as ‘lib’ is unspecified)\n",
            "\n",
            "Installing package into ‘/usr/local/lib/R/site-library’\n",
            "(as ‘lib’ is unspecified)\n",
            "\n",
            "\n",
            "Attaching package: ‘dbplyr’\n",
            "\n",
            "\n",
            "The following objects are masked from ‘package:dplyr’:\n",
            "\n",
            "    ident, sql\n",
            "\n",
            "\n"
          ]
        }
      ]
    },
    {
      "cell_type": "code",
      "metadata": {
        "id": "C1GAz6eUPiX1"
      },
      "source": [
        "## Enter the path of the data file\n",
        "original.data <- read.csv(\"/content/Sales_train.csv\")"
      ],
      "execution_count": 2,
      "outputs": []
    },
    {
      "cell_type": "code",
      "metadata": {
        "id": "UtY4Dzs6gi1M"
      },
      "source": [
        "# convert data into numeric to perform calculations \n",
        "original.data$Stay_In_Current_City_Years = as.numeric(ifelse(original.data$Stay_In_Current_City_Years=='4+', 6, original.data$Stay_In_Current_City_Years))\n",
        "attach(original.data)"
      ],
      "execution_count": 3,
      "outputs": []
    },
    {
      "cell_type": "code",
      "metadata": {
        "colab": {
          "base_uri": "https://localhost:8080/",
          "height": 306
        },
        "id": "MT1AJ7mKg6dz",
        "outputId": "e5bd7efb-f636-48ab-8491-205933da1fda"
      },
      "source": [
        "head(original.data)"
      ],
      "execution_count": 4,
      "outputs": [
        {
          "output_type": "display_data",
          "data": {
            "text/plain": [
              "  User_ID Product_ID Gender Age   Occupation City_Category\n",
              "1 1000001 P00069042  F      0-17  10         A            \n",
              "2 1000001 P00248942  F      0-17  10         A            \n",
              "3 1000001 P00087842  F      0-17  10         A            \n",
              "4 1000001 P00085442  F      0-17  10         A            \n",
              "5 1000002 P00285442  M      55+   16         C            \n",
              "6 1000003 P00193542  M      26-35 15         A            \n",
              "  Stay_In_Current_City_Years Marital_Status Product_Category_1\n",
              "1 2                          0               3                \n",
              "2 2                          0               1                \n",
              "3 2                          0              12                \n",
              "4 2                          0              12                \n",
              "5 6                          0               8                \n",
              "6 3                          0               1                \n",
              "  Product_Category_2 Product_Category_3 Purchase\n",
              "1 NA                 NA                  8370   \n",
              "2  6                 14                 15200   \n",
              "3 NA                 NA                  1422   \n",
              "4 14                 NA                  1057   \n",
              "5 NA                 NA                  7969   \n",
              "6  2                 NA                 15227   "
            ],
            "text/latex": "A data.frame: 6 × 12\n\\begin{tabular}{r|llllllllllll}\n  & User\\_ID & Product\\_ID & Gender & Age & Occupation & City\\_Category & Stay\\_In\\_Current\\_City\\_Years & Marital\\_Status & Product\\_Category\\_1 & Product\\_Category\\_2 & Product\\_Category\\_3 & Purchase\\\\\n  & <int> & <chr> & <chr> & <chr> & <int> & <chr> & <dbl> & <int> & <int> & <int> & <int> & <int>\\\\\n\\hline\n\t1 & 1000001 & P00069042 & F & 0-17  & 10 & A & 2 & 0 &  3 & NA & NA &  8370\\\\\n\t2 & 1000001 & P00248942 & F & 0-17  & 10 & A & 2 & 0 &  1 &  6 & 14 & 15200\\\\\n\t3 & 1000001 & P00087842 & F & 0-17  & 10 & A & 2 & 0 & 12 & NA & NA &  1422\\\\\n\t4 & 1000001 & P00085442 & F & 0-17  & 10 & A & 2 & 0 & 12 & 14 & NA &  1057\\\\\n\t5 & 1000002 & P00285442 & M & 55+   & 16 & C & 6 & 0 &  8 & NA & NA &  7969\\\\\n\t6 & 1000003 & P00193542 & M & 26-35 & 15 & A & 3 & 0 &  1 &  2 & NA & 15227\\\\\n\\end{tabular}\n",
            "text/markdown": "\nA data.frame: 6 × 12\n\n| <!--/--> | User_ID &lt;int&gt; | Product_ID &lt;chr&gt; | Gender &lt;chr&gt; | Age &lt;chr&gt; | Occupation &lt;int&gt; | City_Category &lt;chr&gt; | Stay_In_Current_City_Years &lt;dbl&gt; | Marital_Status &lt;int&gt; | Product_Category_1 &lt;int&gt; | Product_Category_2 &lt;int&gt; | Product_Category_3 &lt;int&gt; | Purchase &lt;int&gt; |\n|---|---|---|---|---|---|---|---|---|---|---|---|---|\n| 1 | 1000001 | P00069042 | F | 0-17  | 10 | A | 2 | 0 |  3 | NA | NA |  8370 |\n| 2 | 1000001 | P00248942 | F | 0-17  | 10 | A | 2 | 0 |  1 |  6 | 14 | 15200 |\n| 3 | 1000001 | P00087842 | F | 0-17  | 10 | A | 2 | 0 | 12 | NA | NA |  1422 |\n| 4 | 1000001 | P00085442 | F | 0-17  | 10 | A | 2 | 0 | 12 | 14 | NA |  1057 |\n| 5 | 1000002 | P00285442 | M | 55+   | 16 | C | 6 | 0 |  8 | NA | NA |  7969 |\n| 6 | 1000003 | P00193542 | M | 26-35 | 15 | A | 3 | 0 |  1 |  2 | NA | 15227 |\n\n",
            "text/html": [
              "<table class=\"dataframe\">\n",
              "<caption>A data.frame: 6 × 12</caption>\n",
              "<thead>\n",
              "\t<tr><th></th><th scope=col>User_ID</th><th scope=col>Product_ID</th><th scope=col>Gender</th><th scope=col>Age</th><th scope=col>Occupation</th><th scope=col>City_Category</th><th scope=col>Stay_In_Current_City_Years</th><th scope=col>Marital_Status</th><th scope=col>Product_Category_1</th><th scope=col>Product_Category_2</th><th scope=col>Product_Category_3</th><th scope=col>Purchase</th></tr>\n",
              "\t<tr><th></th><th scope=col>&lt;int&gt;</th><th scope=col>&lt;chr&gt;</th><th scope=col>&lt;chr&gt;</th><th scope=col>&lt;chr&gt;</th><th scope=col>&lt;int&gt;</th><th scope=col>&lt;chr&gt;</th><th scope=col>&lt;dbl&gt;</th><th scope=col>&lt;int&gt;</th><th scope=col>&lt;int&gt;</th><th scope=col>&lt;int&gt;</th><th scope=col>&lt;int&gt;</th><th scope=col>&lt;int&gt;</th></tr>\n",
              "</thead>\n",
              "<tbody>\n",
              "\t<tr><th scope=row>1</th><td>1000001</td><td>P00069042</td><td>F</td><td>0-17 </td><td>10</td><td>A</td><td>2</td><td>0</td><td> 3</td><td>NA</td><td>NA</td><td> 8370</td></tr>\n",
              "\t<tr><th scope=row>2</th><td>1000001</td><td>P00248942</td><td>F</td><td>0-17 </td><td>10</td><td>A</td><td>2</td><td>0</td><td> 1</td><td> 6</td><td>14</td><td>15200</td></tr>\n",
              "\t<tr><th scope=row>3</th><td>1000001</td><td>P00087842</td><td>F</td><td>0-17 </td><td>10</td><td>A</td><td>2</td><td>0</td><td>12</td><td>NA</td><td>NA</td><td> 1422</td></tr>\n",
              "\t<tr><th scope=row>4</th><td>1000001</td><td>P00085442</td><td>F</td><td>0-17 </td><td>10</td><td>A</td><td>2</td><td>0</td><td>12</td><td>14</td><td>NA</td><td> 1057</td></tr>\n",
              "\t<tr><th scope=row>5</th><td>1000002</td><td>P00285442</td><td>M</td><td>55+  </td><td>16</td><td>C</td><td>6</td><td>0</td><td> 8</td><td>NA</td><td>NA</td><td> 7969</td></tr>\n",
              "\t<tr><th scope=row>6</th><td>1000003</td><td>P00193542</td><td>M</td><td>26-35</td><td>15</td><td>A</td><td>3</td><td>0</td><td> 1</td><td> 2</td><td>NA</td><td>15227</td></tr>\n",
              "</tbody>\n",
              "</table>\n"
            ]
          },
          "metadata": {}
        }
      ]
    },
    {
      "cell_type": "code",
      "metadata": {
        "id": "guBpTCHki3ex"
      },
      "source": [
        "# DATA GATHERING and CLEANING\n",
        "user.id = User_ID\n",
        "product.id = Product_ID\n",
        "gender = Gender\n",
        "age.range = Age\n",
        "occupation = Occupation\n",
        "city = City_Category\n",
        "marital.status = Marital_Status\n",
        "product.category.1 = Product_Category_1\n",
        "years.in.current.city = Stay_In_Current_City_Years"
      ],
      "execution_count": 5,
      "outputs": []
    },
    {
      "cell_type": "code",
      "metadata": {
        "id": "nandPPxtnV_i"
      },
      "source": [
        "# convert NA to 0 to perform calculations \n",
        "product.category.2 = Product_Category_2\n",
        "product.category.2[which(is.na(product.category.2))] = 0\n",
        "\n",
        "  # convert NA to 0 to perform calculations \n",
        "product.category.3 = Product_Category_3\n",
        "product.category.3[which(is.na(product.category.3))] = 0\n",
        "\n",
        "purchase = Purchase\n",
        "\n",
        " #making dataframe of data\n",
        "blackfridaysales = data.frame(user.id, product.id, gender, occupation, city, years.in.current.city, marital.status, product.category.1, product.category.2, product.category.3, purchase)"
      ],
      "execution_count": 6,
      "outputs": []
    },
    {
      "cell_type": "code",
      "metadata": {
        "colab": {
          "base_uri": "https://localhost:8080/"
        },
        "id": "wm_QTQ7XNXm9",
        "outputId": "d8943657-a700-4db9-cd85-55ed6f82ab69"
      },
      "source": [
        "# total samples \n",
        "purchase.samples.count = nrow(table(purchase))\n",
        "cat(\"Total Samples: \", purchase.samples.count)\n",
        "\n",
        "# calculating mean\n",
        "purchase.mean = mean(purchase)\n",
        "cat(\"Mean: \",purchase.mean)\n",
        "  \n",
        "  # calculating std. deviation\n",
        "purchase.sd = sd(purchase)\n",
        "cat(\"Standard Deviation: \",purchase.sd)\n"
      ],
      "execution_count": 7,
      "outputs": [
        {
          "output_type": "stream",
          "name": "stdout",
          "text": [
            "Total Samples:  18105Mean:  9263.969Standard Deviation:  5023.065"
          ]
        }
      ]
    },
    {
      "cell_type": "code",
      "metadata": {
        "colab": {
          "base_uri": "https://localhost:8080/",
          "height": 474
        },
        "id": "r4CfsgK9q_nW",
        "outputId": "ad8fe20c-31f2-472b-b4bd-dbc529e1967a"
      },
      "source": [
        "# SAMPLE 1\n",
        "print(\"Taking 0.5% of total sample\")\n",
        "sample.size = round(purchase.samples.count*0.005)\n",
        "cat(\"Sample size= \", sample.size)\n",
        "\n",
        "sample1 = sample(purchase, size = sample.size, replace = TRUE)\n",
        "sample1.mean = mean(sample1)\n",
        "sample1.sd = sd(sample1)\n",
        "\n",
        "\n",
        "cat(\"Orginal Data Mean | Sample Mean = \", purchase.mean, \" | \",sample1.mean)\n",
        "cat(\"Orginal Data Std. Dev. | Sample Std. Dev. = \", purchase.sd, \" | \",sample1.sd)\n",
        "\n",
        "main = paste(\"0.5% of Shoppers | Sample size = \",sample.size)\n",
        "hist(sample1, prob = TRUE, breaks=15, xlim=c(0,60),col=\"darkorange\", main = main)"
      ],
      "execution_count": 8,
      "outputs": [
        {
          "output_type": "stream",
          "name": "stdout",
          "text": [
            "[1] \"Taking 0.5% of total sample\"\n",
            "Sample size=  91Orginal Data Mean | Sample Mean =  9263.969  |  8956.187Orginal Data Std. Dev. | Sample Std. Dev. =  5023.065  |  4514.92"
          ]
        },
        {
          "output_type": "display_data",
          "data": {
            "image/png": "[encoded data removed]",
            "text/plain": [
              "Plot with title “0.5% of Shoppers | Sample size =  91”"
            ]
          },
          "metadata": {
            "image/png": {
              "width": 420,
              "height": 420
            }
          }
        }
      ]
    },
    {
      "cell_type": "code",
      "metadata": {
        "colab": {
          "base_uri": "https://localhost:8080/",
          "height": 474
        },
        "id": "aXWFhfq1Mz6O",
        "outputId": "fbb93ff2-82ff-4168-a60f-edcd05b735a9"
      },
      "source": [
        "# SAMPLE 2\n",
        "print(\"Taking 1% of total sample\")\n",
        "sample.size = round(purchase.samples.count*0.01)\n",
        "cat(\"Sample size= \", sample.size)\n",
        "\n",
        "sample2 = sample(purchase, size = sample.size, replace = TRUE)\n",
        "sample2.mean = mean(sample2)\n",
        "sample2.sd = sd(sample2)\n",
        "\n",
        "cat(\"Orginal Data Mean | Sample Mean = \", purchase.mean, \" | \",sample2.mean)\n",
        "cat(\"Orginal Data Std. Dev. | Sample Std. Dev. = \", purchase.sd, \" | \",sample2.sd)\n",
        "\n",
        "main = paste(\"1% of Shoppers | Sample size = \",sample.size)\n",
        "hist(sample2, prob = TRUE, breaks=15, xlim=c(0,60),col=\"darkorange\", main = main)"
      ],
      "execution_count": 9,
      "outputs": [
        {
          "output_type": "stream",
          "name": "stdout",
          "text": [
            "[1] \"Taking 1% of total sample\"\n",
            "Sample size=  181Orginal Data Mean | Sample Mean =  9263.969  |  8799.381Orginal Data Std. Dev. | Sample Std. Dev. =  5023.065  |  5048.73"
          ]
        },
        {
          "output_type": "display_data",
          "data": {
            "image/png": "[encoded data removed]",
            "text/plain": [
              "Plot with title “1% of Shoppers | Sample size =  181”"
            ]
          },
          "metadata": {
            "image/png": {
              "width": 420,
              "height": 420
            }
          }
        }
      ]
    },
    {
      "cell_type": "code",
      "metadata": {
        "colab": {
          "base_uri": "https://localhost:8080/",
          "height": 474
        },
        "id": "VMBNWEQ7Mz83",
        "outputId": "b75cf1bf-93c1-43cd-c168-b01c95fb6613"
      },
      "source": [
        "# SAMPLE 3\n",
        "print(\"Taking 5% of total sample\")\n",
        "sample.size = round(purchase.samples.count*0.05)\n",
        "cat(\"Sample size= \", sample.size)\n",
        "\n",
        "sample3 = sample(purchase, size = sample.size, replace = TRUE)\n",
        "sample3.mean = mean(sample3)\n",
        "sample3.sd = sd(sample3)\n",
        "\n",
        "cat(\"Orginal Data Mean | Sample Mean = \", purchase.mean, \" | \",sample3.mean)\n",
        "cat(\"Orginal Data Std. Dev. | Sample Std. Dev. = \", purchase.sd, \" | \",sample3.sd)\n",
        "\n",
        "main = paste(\"5% of Shoppers | Sample size = \",sample.size)\n",
        "hist(sample3, prob = TRUE, breaks=15, xlim=c(0,60),col=\"darkorange\", main = main)"
      ],
      "execution_count": 10,
      "outputs": [
        {
          "output_type": "stream",
          "name": "stdout",
          "text": [
            "[1] \"Taking 5% of total sample\"\n",
            "Sample size=  905Orginal Data Mean | Sample Mean =  9263.969  |  9678.15Orginal Data Std. Dev. | Sample Std. Dev. =  5023.065  |  5051.525"
          ]
        },
        {
          "output_type": "display_data",
          "data": {
            "image/png": "[encoded data removed]",
            "text/plain": [
              "Plot with title “5% of Shoppers | Sample size =  905”"
            ]
          },
          "metadata": {
            "image/png": {
              "width": 420,
              "height": 420
            }
          }
        }
      ]
    },
    {
      "cell_type": "code",
      "metadata": {
        "colab": {
          "base_uri": "https://localhost:8080/",
          "height": 494
        },
        "id": "YjWX1XAwMz_o",
        "outputId": "118b04af-f8aa-43fc-9a29-aba188c9f192"
      },
      "source": [
        "# SAMPLE 4\n",
        "print(\"Taking 30% of total sample\")\n",
        "sample.size = round(purchase.samples.count*0.3)\n",
        "cat(\"Sample size= \", sample.size)\n",
        "\n",
        "sample4 = sample(purchase, size = sample.size, replace = TRUE)\n",
        "sample4.mean = mean(sample4)\n",
        "sample4.sd = sd(sample4)\n",
        "\n",
        "cat(\"Orginal Data Mean | Sample Mean = \", purchase.mean, \" | \",sample4.mean)\n",
        "cat(\"Orginal Data Std. Dev. | Sample Std. Dev. = \", purchase.sd, \" | \",sample4.sd)\n",
        "\n",
        "main = paste(\"30% of Shoppers | Sample size = \",sample.size)\n",
        "hist(sample4, prob = TRUE, breaks=15, xlim=c(0,60),col=\"darkorange\", main = main)"
      ],
      "execution_count": 11,
      "outputs": [
        {
          "output_type": "stream",
          "name": "stdout",
          "text": [
            "[1] \"Taking 30% of total sample\"\n",
            "Sample size=  5432Orginal Data Mean | Sample Mean =  9263.969  |  9302.855Orginal Data Std. Dev. | Sample Std. Dev. =  5023.065  |  4995.884"
          ]
        },
        {
          "output_type": "display_data",
          "data": {
            "image/png": "[encoded data removed]",
            "text/plain": [
              "Plot with title “30% of Shoppers | Sample size =  5432”"
            ]
          },
          "metadata": {
            "image/png": {
              "width": 420,
              "height": 420
            }
          }
        }
      ]
    },
    {
      "cell_type": "code",
      "metadata": {
        "colab": {
          "base_uri": "https://localhost:8080/",
          "height": 494
        },
        "id": "tMh82ln7M0DJ",
        "outputId": "09a388e4-0d4e-4957-fbfc-d6550a5e871e"
      },
      "source": [
        "# SAMPLE 5\n",
        "print(\"Taking 75% of total sample\")\n",
        "sample.size = round(purchase.samples.count*0.75)\n",
        "cat(\"Sample size= \", sample.size)\n",
        "\n",
        "sample5 = sample(purchase, size = sample.size, replace = TRUE)\n",
        "sample5.mean = mean(sample5)\n",
        "sample5.sd = sd(sample5)\n",
        "\n",
        "cat(\"Orginal Data Mean | Sample Mean = \", purchase.mean, \" | \",sample5.mean)\n",
        "cat(\"Orginal Data Std. Dev. | Sample Std. Dev. = \", purchase.sd, \" | \",sample5.sd)\n",
        "\n",
        "main = paste(\"75% of Shoppers | Sample size = \",sample.size)\n",
        "hist(sample5, prob = TRUE, breaks=15, xlim=c(0,60),col=\"darkorange\", main = main)"
      ],
      "execution_count": 12,
      "outputs": [
        {
          "output_type": "stream",
          "name": "stdout",
          "text": [
            "[1] \"Taking 75% of total sample\"\n",
            "Sample size=  13579Orginal Data Mean | Sample Mean =  9263.969  |  9189.132Orginal Data Std. Dev. | Sample Std. Dev. =  5023.065  |  4982.043"
          ]
        },
        {
          "output_type": "display_data",
          "data": {
            "image/png": "[encoded data removed]",
            "text/plain": [
              "Plot with title “75% of Shoppers | Sample size =  13579”"
            ]
          },
          "metadata": {
            "image/png": {
              "width": 420,
              "height": 420
            }
          }
        }
      ]
    },
    {
      "cell_type": "code",
      "metadata": {
        "colab": {
          "base_uri": "https://localhost:8080/"
        },
        "id": "_qRDpdoaN9S6",
        "outputId": "35a593d3-d5b3-4255-ae82-9ddde7b1e799"
      },
      "source": [
        "print(\"In all plots we saw the distribution is centered around original mean\")\n",
        "\n",
        "options(digits = 3)\n",
        "print(\"Mean: Original, 0.5%, 1%, 5%, 30%, 75% of total no of purchases\")\n",
        "cat(purchase.mean, sample1.mean, sample2.mean, sample3.mean, sample4.mean, sample5.mean)\n",
        "\n",
        "print(\"Std. Dev.: Original, 0.5%, 1%, 5%, 30%, 75% of total no of purchases\")\n",
        "cat(purchase.sd, sample1.sd, sample2.sd, sample3.sd, sample4.sd, sample5.sd)\n",
        "\n",
        "print(\"Therefore we can see that\")\n",
        "print(\"If data is drawn from any distribution, then the distribution of the sample means has\n",
        "the shape of a normal distribution for a large sample. The mean of the sample mean distribution is equal to the\n",
        "      mean of the parent data. The higher the sample size, the narrower the spread of the sample means.\")\n"
      ],
      "execution_count": 13,
      "outputs": [
        {
          "output_type": "stream",
          "name": "stdout",
          "text": [
            "[1] \"In all plots we saw the distribution is centered around original mean\"\n",
            "[1] \"Mean: Original, 0.5%, 1%, 5%, 30%, 75% of total no of purchases\"\n",
            "9264 8956 8799 9678 9303 9189[1] \"Std. Dev.: Original, 0.5%, 1%, 5%, 30%, 75% of total no of purchases\"\n",
            "5023 4515 5049 5052 4996 4982[1] \"Therefore we can see that\"\n",
            "[1] \"If data is drawn from any distribution, then the distribution of the sample means has\\nthe shape of a normal distribution for a large sample. The mean of the sample mean distribution is equal to the\\n      mean of the parent data. The higher the sample size, the narrower the spread of the sample means.\"\n"
          ]
        }
      ]
    },
    {
      "cell_type": "markdown",
      "metadata": {
        "id": "DayP3HZMO1rI"
      },
      "source": [
        "Show how various sampling methods can be used on your data. What are your conclusions if these samples are used instead of the whole dataset."
      ]
    },
    {
      "cell_type": "markdown",
      "metadata": {
        "id": "5_IfBKhAO-Lg"
      },
      "source": [
        "## SAMPLING : Stay in Current City\n",
        "with replacement"
      ]
    },
    {
      "cell_type": "code",
      "metadata": {
        "colab": {
          "base_uri": "https://localhost:8080/",
          "height": 217
        },
        "id": "bWIM5iAqO7V7",
        "outputId": "dbb986b7-594a-4e1b-fe14-93f64737194b"
      },
      "source": [
        "# still using rescaled Purchase values\n",
        "sample.size = round(0.07 * purchase.samples.count)#picking random sample size\n",
        "cat(\"Sample size = \", sample.size)\n",
        "\n",
        "# SIMPLE RANDOM SAMPLING\n",
        "print(\"SIMPLE RANDOM SAMPLING\")\n",
        "\n",
        "#with replacement\n",
        "print(\"With Replacement\")\n",
        "s = srswr(sample.size, nrow(blackfridaysales))\n",
        "rows = (1:nrow(blackfridaysales))[s!=0]\n",
        "rows = rep(rows,s[s!=0])\n",
        "sample.with.replace = blackfridaysales[rows,]\n",
        "print(\"For Example\")\n",
        "print(\"Years in Current City Original: \")\n",
        "table(blackfridaysales$years.in.current.city)\n",
        "print(\"Years in Current City Sampled Data\")\n",
        "table(sample.with.replace$years.in.current.city)\n"
      ],
      "execution_count": 14,
      "outputs": [
        {
          "output_type": "stream",
          "name": "stdout",
          "text": [
            "Sample size =  1267[1] \"SIMPLE RANDOM SAMPLING\"\n",
            "[1] \"With Replacement\"\n",
            "[1] \"For Example\"\n",
            "[1] \"Years in Current City Original: \"\n"
          ]
        },
        {
          "output_type": "display_data",
          "data": {
            "text/plain": [
              "\n",
              "     0      1      2      3      6 \n",
              " 74398 193821 101838  95285  84726 "
            ]
          },
          "metadata": {}
        },
        {
          "output_type": "stream",
          "name": "stdout",
          "text": [
            "[1] \"Years in Current City Sampled Data\"\n"
          ]
        },
        {
          "output_type": "display_data",
          "data": {
            "text/plain": [
              "\n",
              "  0   1   2   3   6 \n",
              "163 455 218 219 212 "
            ]
          },
          "metadata": {}
        }
      ]
    },
    {
      "cell_type": "code",
      "metadata": {
        "colab": {
          "base_uri": "https://localhost:8080/",
          "height": 290
        },
        "id": "lxt6E_cCOFlk",
        "outputId": "45cd693d-48d9-473c-8de3-7aa88df23cb4"
      },
      "source": [
        "# Using Sample Data vs Original Data\n",
        "print(\"Sample Data\")\n",
        "print(\"Gender Count\")\n",
        "table(sample.with.replace$gender)\n",
        "print(\"Percentage wise Gender Distribution\")\n",
        "prop.table(table(sample.with.replace$gender))*100\n",
        "\n",
        "print(\"Original Data\")\n",
        "print(\"Percentage wise Gender Distribution\")\n",
        "prop.table(table(blackfridaysales$gender))*100\n",
        "\n",
        "print(\"RESULT : As we can see that distribution has changed in sample data but not much deflection wrt original\")\n"
      ],
      "execution_count": 15,
      "outputs": [
        {
          "output_type": "stream",
          "name": "stdout",
          "text": [
            "[1] \"Sample Data\"\n",
            "[1] \"Gender Count\"\n"
          ]
        },
        {
          "output_type": "display_data",
          "data": {
            "text/plain": [
              "\n",
              "  F   M \n",
              "313 954 "
            ]
          },
          "metadata": {}
        },
        {
          "output_type": "stream",
          "name": "stdout",
          "text": [
            "[1] \"Percentage wise Gender Distribution\"\n"
          ]
        },
        {
          "output_type": "display_data",
          "data": {
            "text/plain": [
              "\n",
              "   F    M \n",
              "24.7 75.3 "
            ]
          },
          "metadata": {}
        },
        {
          "output_type": "stream",
          "name": "stdout",
          "text": [
            "[1] \"Original Data\"\n",
            "[1] \"Percentage wise Gender Distribution\"\n"
          ]
        },
        {
          "output_type": "display_data",
          "data": {
            "text/plain": [
              "\n",
              "   F    M \n",
              "24.7 75.3 "
            ]
          },
          "metadata": {}
        },
        {
          "output_type": "stream",
          "name": "stdout",
          "text": [
            "[1] \"RESULT : As we can see that distribution has changed in sample data but not much deflection wrt original\"\n"
          ]
        }
      ]
    },
    {
      "cell_type": "markdown",
      "metadata": {
        "id": "z7FuI0MdRh6_"
      },
      "source": [
        "without replacement"
      ]
    },
    {
      "cell_type": "code",
      "metadata": {
        "colab": {
          "base_uri": "https://localhost:8080/",
          "height": 198
        },
        "id": "sUQzsqMORGMy",
        "outputId": "2a5c05a2-aac4-4cbe-a301-2218fc65555f"
      },
      "source": [
        "# without replacement\n",
        "print(\"Without Replacement\")\n",
        "s = srswor(sample.size, nrow(blackfridaysales))\n",
        "rows = (1:nrow(blackfridaysales))[s!=0]\n",
        "rows = rep(rows,s[s!=0])\n",
        "sample.without.replace = blackfridaysales[rows,]\n",
        "print(\"For Example\")\n",
        "print(\"Years in Current City Original: \")\n",
        "table(blackfridaysales$years.in.current.city)\n",
        "print(\"Years in Current City Sampled Data\")\n",
        "table(sample.without.replace$years.in.current.city)"
      ],
      "execution_count": 16,
      "outputs": [
        {
          "output_type": "stream",
          "name": "stdout",
          "text": [
            "[1] \"Without Replacement\"\n",
            "[1] \"For Example\"\n",
            "[1] \"Years in Current City Original: \"\n"
          ]
        },
        {
          "output_type": "display_data",
          "data": {
            "text/plain": [
              "\n",
              "     0      1      2      3      6 \n",
              " 74398 193821 101838  95285  84726 "
            ]
          },
          "metadata": {}
        },
        {
          "output_type": "stream",
          "name": "stdout",
          "text": [
            "[1] \"Years in Current City Sampled Data\"\n"
          ]
        },
        {
          "output_type": "display_data",
          "data": {
            "text/plain": [
              "\n",
              "  0   1   2   3   6 \n",
              "157 415 249 241 205 "
            ]
          },
          "metadata": {}
        }
      ]
    },
    {
      "cell_type": "code",
      "metadata": {
        "colab": {
          "base_uri": "https://localhost:8080/",
          "height": 290
        },
        "id": "gmxJaJ7gRw8f",
        "outputId": "5fcce7db-0c49-4001-9da7-086138c34f47"
      },
      "source": [
        "# Using Sample Data vs Original Data\n",
        "print(\"Sample Data\")\n",
        "print(\"Gender Count\")\n",
        "table(sample.without.replace$gender)\n",
        "print(\"Percentage wise Gender Distribution\")\n",
        "prop.table(table(sample.without.replace$gender))*100\n",
        "\n",
        "print(\"Original Data\")\n",
        "print(\"Percentage wise Gender Distribution\")\n",
        "prop.table(table(blackfridaysales$gender))*100\n",
        "\n",
        "print(\"RESULT : As we can see that distribution has changed in sample data but not much deflection wrt to original\")\n"
      ],
      "execution_count": 17,
      "outputs": [
        {
          "output_type": "stream",
          "name": "stdout",
          "text": [
            "[1] \"Sample Data\"\n",
            "[1] \"Gender Count\"\n"
          ]
        },
        {
          "output_type": "display_data",
          "data": {
            "text/plain": [
              "\n",
              "  F   M \n",
              "333 934 "
            ]
          },
          "metadata": {}
        },
        {
          "output_type": "stream",
          "name": "stdout",
          "text": [
            "[1] \"Percentage wise Gender Distribution\"\n"
          ]
        },
        {
          "output_type": "display_data",
          "data": {
            "text/plain": [
              "\n",
              "   F    M \n",
              "26.3 73.7 "
            ]
          },
          "metadata": {}
        },
        {
          "output_type": "stream",
          "name": "stdout",
          "text": [
            "[1] \"Original Data\"\n",
            "[1] \"Percentage wise Gender Distribution\"\n"
          ]
        },
        {
          "output_type": "display_data",
          "data": {
            "text/plain": [
              "\n",
              "   F    M \n",
              "24.7 75.3 "
            ]
          },
          "metadata": {}
        },
        {
          "output_type": "stream",
          "name": "stdout",
          "text": [
            "[1] \"RESULT : As we can see that distribution has changed in sample data but not much deflection wrt to original\"\n"
          ]
        }
      ]
    },
    {
      "cell_type": "markdown",
      "metadata": {
        "id": "soS6tOc0SAHt"
      },
      "source": [
        "## SYSTEMATIC SAMPLING"
      ]
    },
    {
      "cell_type": "code",
      "metadata": {
        "colab": {
          "base_uri": "https://localhost:8080/",
          "height": 217
        },
        "id": "CJ5RNYl_RxkU",
        "outputId": "d61145ae-a4d8-4001-bf69-24f4823ff22f"
      },
      "source": [
        "# SYSTEMATIC SAMPLING\n",
        "print(\"SYSTEMATIC SAMPLING\")\n",
        "\n",
        "# Equal Probability\n",
        "print(\"Considering equal probabilities of every data\")\n",
        "\n",
        "N = nrow(blackfridaysales)\n",
        "n = sample.size\n",
        "k = ceiling(N/n)\n",
        "r = sample(k,1)\n",
        "s = seq(r, by=k, length=n)\n",
        "sample.systematic = blackfridaysales[s,]\n",
        "print(\"For Example\")\n",
        "print(\"Years in Current City Original: \")\n",
        "table(blackfridaysales$years.in.current.city)\n",
        "print(\"Years in Current City Sampled Data\")\n",
        "table(sample.systematic$years.in.current.city)\n"
      ],
      "execution_count": 18,
      "outputs": [
        {
          "output_type": "stream",
          "name": "stdout",
          "text": [
            "[1] \"SYSTEMATIC SAMPLING\"\n",
            "[1] \"Considering equal probabilities of every data\"\n",
            "[1] \"For Example\"\n",
            "[1] \"Years in Current City Original: \"\n"
          ]
        },
        {
          "output_type": "display_data",
          "data": {
            "text/plain": [
              "\n",
              "     0      1      2      3      6 \n",
              " 74398 193821 101838  95285  84726 "
            ]
          },
          "metadata": {}
        },
        {
          "output_type": "stream",
          "name": "stdout",
          "text": [
            "[1] \"Years in Current City Sampled Data\"\n"
          ]
        },
        {
          "output_type": "display_data",
          "data": {
            "text/plain": [
              "\n",
              "  0   1   2   3   6 \n",
              "176 458 235 208 187 "
            ]
          },
          "metadata": {}
        }
      ]
    },
    {
      "cell_type": "code",
      "metadata": {
        "colab": {
          "base_uri": "https://localhost:8080/",
          "height": 307
        },
        "id": "z3yoHsZcSCl4",
        "outputId": "173efbee-8968-4028-efad-0734f17149a5"
      },
      "source": [
        "# Using Sample Data vs Original Data\n",
        "print(\"Sample Data\")\n",
        "print(\"Gender Count\")\n",
        "table(sample.systematic$gender)\n",
        "print(\"Percentage wise Gender Distribution\")\n",
        "prop.table(table(sample.systematic$gender))*100\n",
        "\n",
        "print(\"Original Data\")\n",
        "print(\"Percentage wise Gender Distribution\")\n",
        "prop.table(table(blackfridaysales$gender))*100\n",
        "\n",
        "print(\"RESULT : As we can see that distribution has changed in sample data with notable percentages\")\n",
        "print(\"Sample results vary a lot wrt to original data\")"
      ],
      "execution_count": 19,
      "outputs": [
        {
          "output_type": "stream",
          "name": "stdout",
          "text": [
            "[1] \"Sample Data\"\n",
            "[1] \"Gender Count\"\n"
          ]
        },
        {
          "output_type": "display_data",
          "data": {
            "text/plain": [
              "\n",
              "  F   M \n",
              "314 950 "
            ]
          },
          "metadata": {}
        },
        {
          "output_type": "stream",
          "name": "stdout",
          "text": [
            "[1] \"Percentage wise Gender Distribution\"\n"
          ]
        },
        {
          "output_type": "display_data",
          "data": {
            "text/plain": [
              "\n",
              "   F    M \n",
              "24.8 75.2 "
            ]
          },
          "metadata": {}
        },
        {
          "output_type": "stream",
          "name": "stdout",
          "text": [
            "[1] \"Original Data\"\n",
            "[1] \"Percentage wise Gender Distribution\"\n"
          ]
        },
        {
          "output_type": "display_data",
          "data": {
            "text/plain": [
              "\n",
              "   F    M \n",
              "24.7 75.3 "
            ]
          },
          "metadata": {}
        },
        {
          "output_type": "stream",
          "name": "stdout",
          "text": [
            "[1] \"RESULT : As we can see that distribution has changed in sample data with notable percentages\"\n",
            "[1] \"Sample results vary a lot wrt to original data\"\n"
          ]
        }
      ]
    },
    {
      "cell_type": "markdown",
      "metadata": {
        "id": "bXCLQm40S9xH"
      },
      "source": [
        "## UNEQUAL PROBABILITIES"
      ]
    },
    {
      "cell_type": "code",
      "metadata": {
        "colab": {
          "base_uri": "https://localhost:8080/",
          "height": 253
        },
        "id": "wl6Y2N5HSiuw",
        "outputId": "f4d98add-1ab6-4724-e86b-a11922b948e9"
      },
      "source": [
        "print(\"Considering unequal probabilities for data\")\n",
        "\n",
        "pik = inclusionprobabilities(blackfridaysales$years.in.current.city , sample.size)\n",
        "s= UPsystematic(pik)\n",
        "sample.systematic.unequal.prob = blackfridaysales[s!=0,]\n",
        "print(\"For Example\")\n",
        "print(\"Years in Current City Original: \")\n",
        "table(blackfridaysales$years.in.current.city)\n",
        "print(\"Years in Current City Sampled Data\")\n",
        "table(sample.systematic.unequal.prob$years.in.current.city)"
      ],
      "execution_count": 20,
      "outputs": [
        {
          "output_type": "stream",
          "name": "stdout",
          "text": [
            "[1] \"Considering unequal probabilities for data\"\n"
          ]
        },
        {
          "output_type": "stream",
          "name": "stderr",
          "text": [
            "Warning message in inclusionprobabilities(blackfridaysales$years.in.current.city, :\n",
            "“there are zero values in the initial vector a\n",
            "”\n"
          ]
        },
        {
          "output_type": "stream",
          "name": "stdout",
          "text": [
            "[1] \"For Example\"\n",
            "[1] \"Years in Current City Original: \"\n"
          ]
        },
        {
          "output_type": "display_data",
          "data": {
            "text/plain": [
              "\n",
              "     0      1      2      3      6 \n",
              " 74398 193821 101838  95285  84726 "
            ]
          },
          "metadata": {}
        },
        {
          "output_type": "stream",
          "name": "stdout",
          "text": [
            "[1] \"Years in Current City Sampled Data\"\n"
          ]
        },
        {
          "output_type": "display_data",
          "data": {
            "text/plain": [
              "\n",
              "  1   2   3   6 \n",
              "208 244 301 514 "
            ]
          },
          "metadata": {}
        }
      ]
    },
    {
      "cell_type": "code",
      "metadata": {
        "colab": {
          "base_uri": "https://localhost:8080/",
          "height": 290
        },
        "id": "FIc8O-QSiq7e",
        "outputId": "cf323e22-e1ec-42d2-d9f1-b5c1c1a28ec7"
      },
      "source": [
        " # Using Sample Data vs Original Data\n",
        "print(\"Sample Data\")\n",
        "print(\"Gender Count\")\n",
        "table(sample.systematic.unequal.prob$gender)\n",
        "print(\"Percentage wise Gender Distribution\")\n",
        "prop.table(table(sample.systematic.unequal.prob$gender))*100\n",
        "\n",
        "print(\"Original Data\")\n",
        "print(\"Percentage wise Gender Distribution\")\n",
        "prop.table(table(blackfridaysales$gender))*100\n",
        "\n",
        "print(\"RESULT : As we can see that distribution has changed in sample data but not much deflection wrt original\")"
      ],
      "execution_count": 21,
      "outputs": [
        {
          "output_type": "stream",
          "name": "stdout",
          "text": [
            "[1] \"Sample Data\"\n",
            "[1] \"Gender Count\"\n"
          ]
        },
        {
          "output_type": "display_data",
          "data": {
            "text/plain": [
              "\n",
              "  F   M \n",
              "290 977 "
            ]
          },
          "metadata": {}
        },
        {
          "output_type": "stream",
          "name": "stdout",
          "text": [
            "[1] \"Percentage wise Gender Distribution\"\n"
          ]
        },
        {
          "output_type": "display_data",
          "data": {
            "text/plain": [
              "\n",
              "   F    M \n",
              "22.9 77.1 "
            ]
          },
          "metadata": {}
        },
        {
          "output_type": "stream",
          "name": "stdout",
          "text": [
            "[1] \"Original Data\"\n",
            "[1] \"Percentage wise Gender Distribution\"\n"
          ]
        },
        {
          "output_type": "display_data",
          "data": {
            "text/plain": [
              "\n",
              "   F    M \n",
              "24.7 75.3 "
            ]
          },
          "metadata": {}
        },
        {
          "output_type": "stream",
          "name": "stdout",
          "text": [
            "[1] \"RESULT : As we can see that distribution has changed in sample data but not much deflection wrt original\"\n"
          ]
        }
      ]
    },
    {
      "cell_type": "markdown",
      "metadata": {
        "id": "EXYyBWgVUrT1"
      },
      "source": [
        "## STRATIFIED SAMPLING"
      ]
    },
    {
      "cell_type": "code",
      "metadata": {
        "colab": {
          "base_uri": "https://localhost:8080/",
          "height": 786
        },
        "id": "RlgrJO_CTIab",
        "outputId": "81668fe5-cf12-48ff-a5dd-94f68de9e755"
      },
      "source": [
        "# STRATIFIED SAMPLING\n",
        "\n",
        "temporary = blackfridaysales\n",
        "temporary.size = sample.size\n",
        "\n",
        "print(\"STRATIFIED SAMPLING\")\n",
        "\n",
        "sample.size = 10 #changin the sample size for this sampling to better understand\n",
        "cat(\"Sample size for startified sampling = \",sample.size)\n",
        "\n",
        "# ordering the data\n",
        "blackfridaysales = blackfridaysales[order(blackfridaysales$years.in.current.city),]\n",
        "\n",
        "freq <- table(blackfridaysales$years.in.current.city)\n",
        "size <- sample.size * freq / sum(freq)\n",
        "\n",
        "st1 = strata(blackfridaysales, size = size , stratanames = c(\"years.in.current.city\"), method = \"srswr\", description = TRUE)\n",
        "sample = getdata(blackfridaysales,st1)\n",
        "sample"
      ],
      "execution_count": 22,
      "outputs": [
        {
          "output_type": "stream",
          "name": "stdout",
          "text": [
            "[1] \"STRATIFIED SAMPLING\"\n",
            "Sample size for startified sampling =  10Stratum 1 \n",
            "\n",
            "Population total and number of selected units: 74398 1.35 \n",
            "Stratum 2 \n",
            "\n",
            "Population total and number of selected units: 193821 3.52 \n",
            "Stratum 3 \n",
            "\n",
            "Population total and number of selected units: 101838 1.85 \n",
            "Stratum 4 \n",
            "\n",
            "Population total and number of selected units: 95285 1.73 \n",
            "Stratum 5 \n",
            "\n",
            "Population total and number of selected units: 84726 1.54 \n",
            "Number of strata  5 \n",
            "Total number of selected units 10 \n"
          ]
        },
        {
          "output_type": "display_data",
          "data": {
            "text/plain": [
              "       user.id product.id gender occupation city marital.status\n",
              "133331 1002547 P00086242  F       0         C    1             \n",
              "151060 1005341 P00183542  F       3         C    1             \n",
              "239972 1001050 P00148342  M       1         B    0             \n",
              "306794 1005282 P00249642  F       4         B    1             \n",
              "373012 1003476 P00337442  M       0         B    1             \n",
              "506100 1005961 P00151742  F       0         A    0             \n",
              "336834 1003841 P00320042  M      18         A    0             \n",
              "       product.category.1 product.category.2 product.category.3 purchase\n",
              "133331 10                  0                  0                 23788   \n",
              "151060  4                  5                  0                  1378   \n",
              "239972  5                  0                  0                  3628   \n",
              "306794  3                  5                  0                  2948   \n",
              "373012  5                  0                  0                  7027   \n",
              "506100  8                 15                 16                  6048   \n",
              "336834  1                  8                  0                 15898   \n",
              "       years.in.current.city ID_unit Prob     Stratum\n",
              "133331 0                      18181  1.82e-05 1      \n",
              "151060 1                     127522  1.82e-05 2      \n",
              "239972 1                     158691  1.82e-05 2      \n",
              "306794 1                     182532  1.82e-05 2      \n",
              "373012 2                     337121  1.82e-05 3      \n",
              "506100 3                     457738  1.82e-05 4      \n",
              "336834 6                     517452  1.82e-05 5      "
            ],
            "text/latex": "A data.frame: 7 × 14\n\\begin{tabular}{r|llllllllllllll}\n  & user.id & product.id & gender & occupation & city & marital.status & product.category.1 & product.category.2 & product.category.3 & purchase & years.in.current.city & ID\\_unit & Prob & Stratum\\\\\n  & <int> & <chr> & <chr> & <int> & <chr> & <int> & <int> & <dbl> & <dbl> & <int> & <dbl> & <int> & <dbl> & <int>\\\\\n\\hline\n\t133331 & 1002547 & P00086242 & F &  0 & C & 1 & 10 &  0 &  0 & 23788 & 0 &  18181 & 1.82e-05 & 1\\\\\n\t151060 & 1005341 & P00183542 & F &  3 & C & 1 &  4 &  5 &  0 &  1378 & 1 & 127522 & 1.82e-05 & 2\\\\\n\t239972 & 1001050 & P00148342 & M &  1 & B & 0 &  5 &  0 &  0 &  3628 & 1 & 158691 & 1.82e-05 & 2\\\\\n\t306794 & 1005282 & P00249642 & F &  4 & B & 1 &  3 &  5 &  0 &  2948 & 1 & 182532 & 1.82e-05 & 2\\\\\n\t373012 & 1003476 & P00337442 & M &  0 & B & 1 &  5 &  0 &  0 &  7027 & 2 & 337121 & 1.82e-05 & 3\\\\\n\t506100 & 1005961 & P00151742 & F &  0 & A & 0 &  8 & 15 & 16 &  6048 & 3 & 457738 & 1.82e-05 & 4\\\\\n\t336834 & 1003841 & P00320042 & M & 18 & A & 0 &  1 &  8 &  0 & 15898 & 6 & 517452 & 1.82e-05 & 5\\\\\n\\end{tabular}\n",
            "text/markdown": "\nA data.frame: 7 × 14\n\n| <!--/--> | user.id &lt;int&gt; | product.id &lt;chr&gt; | gender &lt;chr&gt; | occupation &lt;int&gt; | city &lt;chr&gt; | marital.status &lt;int&gt; | product.category.1 &lt;int&gt; | product.category.2 &lt;dbl&gt; | product.category.3 &lt;dbl&gt; | purchase &lt;int&gt; | years.in.current.city &lt;dbl&gt; | ID_unit &lt;int&gt; | Prob &lt;dbl&gt; | Stratum &lt;int&gt; |\n|---|---|---|---|---|---|---|---|---|---|---|---|---|---|---|\n| 133331 | 1002547 | P00086242 | F |  0 | C | 1 | 10 |  0 |  0 | 23788 | 0 |  18181 | 1.82e-05 | 1 |\n| 151060 | 1005341 | P00183542 | F |  3 | C | 1 |  4 |  5 |  0 |  1378 | 1 | 127522 | 1.82e-05 | 2 |\n| 239972 | 1001050 | P00148342 | M |  1 | B | 0 |  5 |  0 |  0 |  3628 | 1 | 158691 | 1.82e-05 | 2 |\n| 306794 | 1005282 | P00249642 | F |  4 | B | 1 |  3 |  5 |  0 |  2948 | 1 | 182532 | 1.82e-05 | 2 |\n| 373012 | 1003476 | P00337442 | M |  0 | B | 1 |  5 |  0 |  0 |  7027 | 2 | 337121 | 1.82e-05 | 3 |\n| 506100 | 1005961 | P00151742 | F |  0 | A | 0 |  8 | 15 | 16 |  6048 | 3 | 457738 | 1.82e-05 | 4 |\n| 336834 | 1003841 | P00320042 | M | 18 | A | 0 |  1 |  8 |  0 | 15898 | 6 | 517452 | 1.82e-05 | 5 |\n\n",
            "text/html": [
              "<table class=\"dataframe\">\n",
              "<caption>A data.frame: 7 × 14</caption>\n",
              "<thead>\n",
              "\t<tr><th></th><th scope=col>user.id</th><th scope=col>product.id</th><th scope=col>gender</th><th scope=col>occupation</th><th scope=col>city</th><th scope=col>marital.status</th><th scope=col>product.category.1</th><th scope=col>product.category.2</th><th scope=col>product.category.3</th><th scope=col>purchase</th><th scope=col>years.in.current.city</th><th scope=col>ID_unit</th><th scope=col>Prob</th><th scope=col>Stratum</th></tr>\n",
              "\t<tr><th></th><th scope=col>&lt;int&gt;</th><th scope=col>&lt;chr&gt;</th><th scope=col>&lt;chr&gt;</th><th scope=col>&lt;int&gt;</th><th scope=col>&lt;chr&gt;</th><th scope=col>&lt;int&gt;</th><th scope=col>&lt;int&gt;</th><th scope=col>&lt;dbl&gt;</th><th scope=col>&lt;dbl&gt;</th><th scope=col>&lt;int&gt;</th><th scope=col>&lt;dbl&gt;</th><th scope=col>&lt;int&gt;</th><th scope=col>&lt;dbl&gt;</th><th scope=col>&lt;int&gt;</th></tr>\n",
              "</thead>\n",
              "<tbody>\n",
              "\t<tr><th scope=row>133331</th><td>1002547</td><td>P00086242</td><td>F</td><td> 0</td><td>C</td><td>1</td><td>10</td><td> 0</td><td> 0</td><td>23788</td><td>0</td><td> 18181</td><td>1.82e-05</td><td>1</td></tr>\n",
              "\t<tr><th scope=row>151060</th><td>1005341</td><td>P00183542</td><td>F</td><td> 3</td><td>C</td><td>1</td><td> 4</td><td> 5</td><td> 0</td><td> 1378</td><td>1</td><td>127522</td><td>1.82e-05</td><td>2</td></tr>\n",
              "\t<tr><th scope=row>239972</th><td>1001050</td><td>P00148342</td><td>M</td><td> 1</td><td>B</td><td>0</td><td> 5</td><td> 0</td><td> 0</td><td> 3628</td><td>1</td><td>158691</td><td>1.82e-05</td><td>2</td></tr>\n",
              "\t<tr><th scope=row>306794</th><td>1005282</td><td>P00249642</td><td>F</td><td> 4</td><td>B</td><td>1</td><td> 3</td><td> 5</td><td> 0</td><td> 2948</td><td>1</td><td>182532</td><td>1.82e-05</td><td>2</td></tr>\n",
              "\t<tr><th scope=row>373012</th><td>1003476</td><td>P00337442</td><td>M</td><td> 0</td><td>B</td><td>1</td><td> 5</td><td> 0</td><td> 0</td><td> 7027</td><td>2</td><td>337121</td><td>1.82e-05</td><td>3</td></tr>\n",
              "\t<tr><th scope=row>506100</th><td>1005961</td><td>P00151742</td><td>F</td><td> 0</td><td>A</td><td>0</td><td> 8</td><td>15</td><td>16</td><td> 6048</td><td>3</td><td>457738</td><td>1.82e-05</td><td>4</td></tr>\n",
              "\t<tr><th scope=row>336834</th><td>1003841</td><td>P00320042</td><td>M</td><td>18</td><td>A</td><td>0</td><td> 1</td><td> 8</td><td> 0</td><td>15898</td><td>6</td><td>517452</td><td>1.82e-05</td><td>5</td></tr>\n",
              "</tbody>\n",
              "</table>\n"
            ]
          },
          "metadata": {}
        }
      ]
    },
    {
      "cell_type": "code",
      "metadata": {
        "colab": {
          "base_uri": "https://localhost:8080/",
          "height": 451
        },
        "id": "syY1Q6LtU0c_",
        "outputId": "d98e0292-063a-49d8-bc8e-1864daddd022"
      },
      "source": [
        "# Using Sample Data vs Original Data\n",
        "print(\"Sample Data\")\n",
        "print(\"Gender Count\")\n",
        "table(sample$gender)\n",
        "print(\"Percentage wise Gender Distribution\")\n",
        "prop.table(table(sample$gender))*100\n",
        "\n",
        "print(\"Original Data\")\n",
        "print(\"Percentage wise Gender Distribution\")\n",
        "prop.table(table(blackfridaysales$gender))*100\n",
        "\n",
        "print(\"RESULT : As we can see that distribution has changed by large percentages\")\n",
        "print(\"With this distribution we may have much different results\")\n",
        "\n",
        "print(\"Taking another example of Average Purchase\")\n",
        "print(\"Sample Data\")\n",
        "mean(sample$purchase)\n",
        "\n",
        "print(\"Original Data\")\n",
        "print(\"Percentage wise Gender Distribution\")\n",
        "mean(blackfridaysales$purchase)\n",
        "\n",
        "print(\"RESULT : Mean is differing in 1000s using this sample\")\n",
        "print(\"Thus much different interpretation if used this sample data\")"
      ],
      "execution_count": 23,
      "outputs": [
        {
          "output_type": "stream",
          "name": "stdout",
          "text": [
            "[1] \"Sample Data\"\n",
            "[1] \"Gender Count\"\n"
          ]
        },
        {
          "output_type": "display_data",
          "data": {
            "text/plain": [
              "\n",
              "F M \n",
              "4 3 "
            ]
          },
          "metadata": {}
        },
        {
          "output_type": "stream",
          "name": "stdout",
          "text": [
            "[1] \"Percentage wise Gender Distribution\"\n"
          ]
        },
        {
          "output_type": "display_data",
          "data": {
            "text/plain": [
              "\n",
              "   F    M \n",
              "57.1 42.9 "
            ]
          },
          "metadata": {}
        },
        {
          "output_type": "stream",
          "name": "stdout",
          "text": [
            "[1] \"Original Data\"\n",
            "[1] \"Percentage wise Gender Distribution\"\n"
          ]
        },
        {
          "output_type": "display_data",
          "data": {
            "text/plain": [
              "\n",
              "   F    M \n",
              "24.7 75.3 "
            ]
          },
          "metadata": {}
        },
        {
          "output_type": "stream",
          "name": "stdout",
          "text": [
            "[1] \"RESULT : As we can see that distribution has changed by large percentages\"\n",
            "[1] \"With this distribution we may have much different results\"\n",
            "[1] \"Taking another example of Average Purchase\"\n",
            "[1] \"Sample Data\"\n"
          ]
        },
        {
          "output_type": "display_data",
          "data": {
            "text/plain": [
              "[1] 8674"
            ],
            "text/latex": "8673.57142857143",
            "text/markdown": "8673.57142857143",
            "text/html": [
              "8673.57142857143"
            ]
          },
          "metadata": {}
        },
        {
          "output_type": "stream",
          "name": "stdout",
          "text": [
            "[1] \"Original Data\"\n",
            "[1] \"Percentage wise Gender Distribution\"\n"
          ]
        },
        {
          "output_type": "display_data",
          "data": {
            "text/plain": [
              "[1] 9264"
            ],
            "text/latex": "9263.96871295913",
            "text/markdown": "9263.96871295913",
            "text/html": [
              "9263.96871295913"
            ]
          },
          "metadata": {}
        },
        {
          "output_type": "stream",
          "name": "stdout",
          "text": [
            "[1] \"RESULT : Mean is differing in 1000s using this sample\"\n",
            "[1] \"Thus much different interpretation if used this sample data\"\n"
          ]
        }
      ]
    },
    {
      "cell_type": "code",
      "metadata": {
        "id": "jGxyXRoHVk_F"
      },
      "source": [
        "# revert the data back to orginal\n",
        "blackfridaysales = temporary\n",
        "sample.size = temporary.size"
      ],
      "execution_count": 24,
      "outputs": []
    },
    {
      "cell_type": "markdown",
      "metadata": {
        "id": "lTEWp5RRkSS3"
      },
      "source": [
        "## CLUSTER SAMPLING"
      ]
    },
    {
      "cell_type": "code",
      "metadata": {
        "colab": {
          "base_uri": "https://localhost:8080/",
          "height": 380
        },
        "id": "DS60u8nQj_yW",
        "outputId": "fc017abd-16c6-47c1-a25c-2302811cedb2"
      },
      "source": [
        "temporary.size = sample.size\n",
        "sample.size = 2 # should be less than no of unique value of the column which is basis of sampling\n",
        "\n",
        "print(\"CLUSTER SAMPLING\")\n",
        "cl = cluster(blackfridaysales, c(\"years.in.current.city\"), size=sample.size, method=\"srswor\")\n",
        "cl.sample = getdata(blackfridaysales, cl)\n",
        "cat(\"Cluster Sampling for Years in Current City with sample size= \",sample.size)\n",
        "table(cl.sample$years.in.current.city)\n",
        "\n",
        "\n",
        "# Using Sample Data vs Original Data\n",
        "print(\"Sample Data\")\n",
        "print(\"Gender Count\")\n",
        "table(cl.sample$gender)\n",
        "print(\"Percentage wise Gender Distribution\")\n",
        "prop.table(table(cl.sample$gender))*100\n",
        "\n",
        "print(\"Original Data\")\n",
        "print(\"Percentage wise Gender Distribution\")\n",
        "prop.table(table(blackfridaysales$gender))*100\n",
        "\n",
        "print(\"RESULT : As we can see that distribution has changed in sample data but not much deflection\")\n"
      ],
      "execution_count": 25,
      "outputs": [
        {
          "output_type": "stream",
          "name": "stdout",
          "text": [
            "[1] \"CLUSTER SAMPLING\"\n",
            "Cluster Sampling for Years in Current City with sample size=  2"
          ]
        },
        {
          "output_type": "display_data",
          "data": {
            "text/plain": [
              "\n",
              "    3     6 \n",
              "95285 84726 "
            ]
          },
          "metadata": {}
        },
        {
          "output_type": "stream",
          "name": "stdout",
          "text": [
            "[1] \"Sample Data\"\n",
            "[1] \"Gender Count\"\n"
          ]
        },
        {
          "output_type": "display_data",
          "data": {
            "text/plain": [
              "\n",
              "     F      M \n",
              " 43116 136895 "
            ]
          },
          "metadata": {}
        },
        {
          "output_type": "stream",
          "name": "stdout",
          "text": [
            "[1] \"Percentage wise Gender Distribution\"\n"
          ]
        },
        {
          "output_type": "display_data",
          "data": {
            "text/plain": [
              "\n",
              " F  M \n",
              "24 76 "
            ]
          },
          "metadata": {}
        },
        {
          "output_type": "stream",
          "name": "stdout",
          "text": [
            "[1] \"Original Data\"\n",
            "[1] \"Percentage wise Gender Distribution\"\n"
          ]
        },
        {
          "output_type": "display_data",
          "data": {
            "text/plain": [
              "\n",
              "   F    M \n",
              "24.7 75.3 "
            ]
          },
          "metadata": {}
        },
        {
          "output_type": "stream",
          "name": "stdout",
          "text": [
            "[1] \"RESULT : As we can see that distribution has changed in sample data but not much deflection\"\n"
          ]
        }
      ]
    },
    {
      "cell_type": "code",
      "metadata": {
        "colab": {
          "base_uri": "https://localhost:8080/"
        },
        "id": "ux0k3MeWj_01",
        "outputId": "21906923-076c-4ecc-9bdf-f11af643b7e8"
      },
      "source": [
        "# revert the data back to original\n",
        "sample.size = temporary.size\n",
        "\n",
        "print(\"RESULT: Thus of all sampling in this data SYSTEMATIC SAMPLING WITH EQUAL PROBABILITY & STRATIFIED SAMPLING samples get deflected most as compared to original data\")\n",
        "print(\"Rest of the sampling data interpretations remains similar to the original data\")\n"
      ],
      "execution_count": 26,
      "outputs": [
        {
          "output_type": "stream",
          "name": "stdout",
          "text": [
            "[1] \"RESULT: Thus of all sampling in this data SYSTEMATIC SAMPLING WITH EQUAL PROBABILITY & STRATIFIED SAMPLING samples get deflected most as compared to original data\"\n",
            "[1] \"Rest of the sampling data interpretations remains similar to the original data\"\n"
          ]
        }
      ]
    },
    {
      "cell_type": "code",
      "metadata": {
        "id": "DLVMQbkvXQQ6"
      },
      "source": [
        ""
      ],
      "execution_count": 27,
      "outputs": []
    },
    {
      "cell_type": "markdown",
      "metadata": {
        "id": "xvjBcJMion7z"
      },
      "source": [
        "## TIBBLE"
      ]
    },
    {
      "cell_type": "code",
      "metadata": {
        "colab": {
          "base_uri": "https://localhost:8080/",
          "height": 1000
        },
        "id": "OdBFuusaXQT3",
        "outputId": "30bd9c28-1c5d-4f3b-9216-34379cc42ac5"
      },
      "source": [
        "print(\"Creating tibble of data\")\n",
        "bfs = as.tibble(blackfridaysales)\n",
        "bfs\n",
        "\n",
        "# Observation\n",
        "\n",
        "print(\"Average year a shopper stayed in the current city\")\n",
        "print(\"For A\")\n",
        "dplyr::filter(bfs, city==\"A\") %>% summarise(mean(years.in.current.city))\n",
        "print(\"For B\")\n",
        "dplyr::filter(bfs, city==\"B\") %>% summarise(mean(years.in.current.city))\n",
        "print(\"For C\")\n",
        "dplyr::filter(bfs, city==\"C\") %>% summarise(mean(years.in.current.city))\n",
        "\n",
        "# Observation\n",
        "\n",
        "print(\"Average Purchase made in each City Category on the basis of Stay in the Current City\")\n",
        "print(\"For A\")\n",
        "dplyr::filter(bfs, city==\"A\") %>% group_by(years.in.current.city) %>% summarise(mean(purchase))\n",
        "print(\"For B\")\n",
        "dplyr::filter(bfs, city==\"B\") %>% group_by(years.in.current.city) %>% summarise(mean(purchase))\n",
        "print(\"For C\")\n",
        "dplyr::filter(bfs, city==\"C\") %>% group_by(years.in.current.city) %>% summarise(mean(purchase))\n",
        "\n",
        "\n",
        "# CONCLUSIONS\n",
        "\n",
        "print(\"We analyzed following points and could use them to increase our sales in next black friday\")\n",
        "print(\"Number of Male Shoppers > Female Shoppers\")\n",
        "print(\"Products in Product Category 2 sold most\")\n",
        "print(\"People generally spent over $5000 in sales\")\n",
        "print(\"People in age range 26-35 purchase most\")\n",
        "print(\"There are highest average sales in City Category 'C' as compared to other\")\n",
        "print(\"Unequal Probability sampling technique could be used over this dataset for best results\")"
      ],
      "execution_count": 28,
      "outputs": [
        {
          "output_type": "stream",
          "name": "stdout",
          "text": [
            "[1] \"Creating tibble of data\"\n"
          ]
        },
        {
          "output_type": "stream",
          "name": "stderr",
          "text": [
            "Warning message:\n",
            "“`as.tibble()` was deprecated in tibble 2.0.0.\n",
            "Please use `as_tibble()` instead.\n",
            "The signature and semantics have changed, see `?as_tibble`.\n",
            "\u001b[90mThis warning is displayed once every 8 hours.\u001b[39m\n",
            "\u001b[90mCall `lifecycle::last_warnings()` to see where this warning was generated.\u001b[39m”\n"
          ]
        },
        {
          "output_type": "display_data",
          "data": {
            "text/plain": [
              "       user.id product.id gender occupation city years.in.current.city\n",
              "1      1000001 P00069042  F      10         A    2                    \n",
              "2      1000001 P00248942  F      10         A    2                    \n",
              "3      1000001 P00087842  F      10         A    2                    \n",
              "4      1000001 P00085442  F      10         A    2                    \n",
              "5      1000002 P00285442  M      16         C    6                    \n",
              "6      1000003 P00193542  M      15         A    3                    \n",
              "7      1000004 P00184942  M       7         B    2                    \n",
              "8      1000004 P00346142  M       7         B    2                    \n",
              "9      1000004 P0097242   M       7         B    2                    \n",
              "10     1000005 P00274942  M      20         A    1                    \n",
              "11     1000005 P00251242  M      20         A    1                    \n",
              "12     1000005 P00014542  M      20         A    1                    \n",
              "13     1000005 P00031342  M      20         A    1                    \n",
              "14     1000005 P00145042  M      20         A    1                    \n",
              "15     1000006 P00231342  F       9         A    1                    \n",
              "16     1000006 P00190242  F       9         A    1                    \n",
              "17     1000006 P0096642   F       9         A    1                    \n",
              "18     1000006 P00058442  F       9         A    1                    \n",
              "19     1000007 P00036842  M       1         B    1                    \n",
              "20     1000008 P00249542  M      12         C    6                    \n",
              "21     1000008 P00220442  M      12         C    6                    \n",
              "22     1000008 P00156442  M      12         C    6                    \n",
              "23     1000008 P00213742  M      12         C    6                    \n",
              "24     1000008 P00214442  M      12         C    6                    \n",
              "25     1000008 P00303442  M      12         C    6                    \n",
              "26     1000009 P00135742  M      17         C    0                    \n",
              "27     1000009 P00039942  M      17         C    0                    \n",
              "28     1000009 P00161442  M      17         C    0                    \n",
              "29     1000009 P00078742  M      17         C    0                    \n",
              "30     1000010 P00085942  F       1         B    6                    \n",
              "⋮      ⋮       ⋮          ⋮      ⋮          ⋮    ⋮                    \n",
              "550039 1005995 P00375436  F       1         C    2                    \n",
              "550040 1005996 P00371644  F       0         B    1                    \n",
              "550041 1005997 P00370853  F       7         A    3                    \n",
              "550042 1006000 P00371644  M      17         B    2                    \n",
              "550043 1006002 P00371644  M       0         C    1                    \n",
              "550044 1006003 P00370293  F      17         C    1                    \n",
              "550045 1006004 P00370853  F      15         C    2                    \n",
              "550046 1006005 P00371644  F       5         C    2                    \n",
              "550047 1006006 P00375436  F       0         C    1                    \n",
              "550048 1006009 P00372445  F      12         C    3                    \n",
              "550049 1006010 P00371644  M       0         C    1                    \n",
              "550050 1006011 P00375436  M      15         C    3                    \n",
              "550051 1006012 P00371644  M      15         C    6                    \n",
              "550052 1006013 P00375436  F      20         C    3                    \n",
              "550053 1006016 P00375436  M       1         B    1                    \n",
              "550054 1006017 P00371644  F       7         B    1                    \n",
              "550055 1006018 P00370293  M       1         C    3                    \n",
              "550056 1006019 P00372445  M       0         A    6                    \n",
              "550057 1006022 P00375436  M      17         C    6                    \n",
              "550058 1006023 P00370853  M       0         C    2                    \n",
              "550059 1006024 P00372445  M      12         A    0                    \n",
              "550060 1006025 P00370853  F       1         B    1                    \n",
              "550061 1006026 P00371644  M       6         C    1                    \n",
              "550062 1006029 P00372445  F       1         C    1                    \n",
              "550063 1006032 P00372445  M       7         A    3                    \n",
              "550064 1006033 P00372445  M      13         B    1                    \n",
              "550065 1006035 P00375436  F       1         C    3                    \n",
              "550066 1006036 P00375436  F      15         B    6                    \n",
              "550067 1006038 P00375436  F       1         C    2                    \n",
              "550068 1006039 P00371644  F       0         B    6                    \n",
              "       marital.status product.category.1 product.category.2 product.category.3\n",
              "1      0               3                  0                  0                \n",
              "2      0               1                  6                 14                \n",
              "3      0              12                  0                  0                \n",
              "4      0              12                 14                  0                \n",
              "5      0               8                  0                  0                \n",
              "6      0               1                  2                  0                \n",
              "7      1               1                  8                 17                \n",
              "8      1               1                 15                  0                \n",
              "9      1               1                 16                  0                \n",
              "10     1               8                  0                  0                \n",
              "11     1               5                 11                  0                \n",
              "12     1               8                  0                  0                \n",
              "13     1               8                  0                  0                \n",
              "14     1               1                  2                  5                \n",
              "15     0               5                  8                 14                \n",
              "16     0               4                  5                  0                \n",
              "17     0               2                  3                  4                \n",
              "18     0               5                 14                  0                \n",
              "19     1               1                 14                 16                \n",
              "20     1               1                  5                 15                \n",
              "21     1               5                 14                  0                \n",
              "22     1               8                  0                  0                \n",
              "23     1               8                  0                  0                \n",
              "24     1               8                  0                  0                \n",
              "25     1               1                  8                 14                \n",
              "26     0               6                  8                  0                \n",
              "27     0               8                  0                  0                \n",
              "28     0               5                 14                  0                \n",
              "29     0               5                  8                 14                \n",
              "30     1               2                  4                  8                \n",
              "⋮      ⋮              ⋮                  ⋮                  ⋮                 \n",
              "550039 1              20                 0                  0                 \n",
              "550040 1              20                 0                  0                 \n",
              "550041 0              19                 0                  0                 \n",
              "550042 1              20                 0                  0                 \n",
              "550043 1              20                 0                  0                 \n",
              "550044 0              19                 0                  0                 \n",
              "550045 0              19                 0                  0                 \n",
              "550046 1              20                 0                  0                 \n",
              "550047 0              20                 0                  0                 \n",
              "550048 0              20                 0                  0                 \n",
              "550049 0              20                 0                  0                 \n",
              "550050 0              20                 0                  0                 \n",
              "550051 1              20                 0                  0                 \n",
              "550052 0              20                 0                  0                 \n",
              "550053 1              20                 0                  0                 \n",
              "550054 0              20                 0                  0                 \n",
              "550055 0              19                 0                  0                 \n",
              "550056 0              20                 0                  0                 \n",
              "550057 0              20                 0                  0                 \n",
              "550058 1              19                 0                  0                 \n",
              "550059 1              20                 0                  0                 \n",
              "550060 0              19                 0                  0                 \n",
              "550061 1              20                 0                  0                 \n",
              "550062 1              20                 0                  0                 \n",
              "550063 0              20                 0                  0                 \n",
              "550064 1              20                 0                  0                 \n",
              "550065 0              20                 0                  0                 \n",
              "550066 1              20                 0                  0                 \n",
              "550067 0              20                 0                  0                 \n",
              "550068 1              20                 0                  0                 \n",
              "       purchase\n",
              "1       8370   \n",
              "2      15200   \n",
              "3       1422   \n",
              "4       1057   \n",
              "5       7969   \n",
              "6      15227   \n",
              "7      19215   \n",
              "8      15854   \n",
              "9      15686   \n",
              "10      7871   \n",
              "11      5254   \n",
              "12      3957   \n",
              "13      6073   \n",
              "14     15665   \n",
              "15      5378   \n",
              "16      2079   \n",
              "17     13055   \n",
              "18      8851   \n",
              "19     11788   \n",
              "20     19614   \n",
              "21      8584   \n",
              "22      9872   \n",
              "23      9743   \n",
              "24      5982   \n",
              "25     11927   \n",
              "26     16662   \n",
              "27      5887   \n",
              "28      6973   \n",
              "29      5391   \n",
              "30     16352   \n",
              "⋮      ⋮       \n",
              "550039 596     \n",
              "550040 595     \n",
              "550041  26     \n",
              "550042 488     \n",
              "550043 243     \n",
              "550044  48     \n",
              "550045  62     \n",
              "550046 252     \n",
              "550047 236     \n",
              "550048 244     \n",
              "550049 591     \n",
              "550050 473     \n",
              "550051 368     \n",
              "550052 489     \n",
              "550053 239     \n",
              "550054 371     \n",
              "550055  60     \n",
              "550056 238     \n",
              "550057 254     \n",
              "550058  61     \n",
              "550059 121     \n",
              "550060  48     \n",
              "550061 494     \n",
              "550062 599     \n",
              "550063 473     \n",
              "550064 368     \n",
              "550065 371     \n",
              "550066 137     \n",
              "550067 365     \n",
              "550068 490     "
            ],
            "text/latex": "A tibble: 550068 × 11\n\\begin{tabular}{lllllllllll}\n user.id & product.id & gender & occupation & city & years.in.current.city & marital.status & product.category.1 & product.category.2 & product.category.3 & purchase\\\\\n <int> & <chr> & <chr> & <int> & <chr> & <dbl> & <int> & <int> & <dbl> & <dbl> & <int>\\\\\n\\hline\n\t 1000001 & P00069042 & F & 10 & A & 2 & 0 &  3 &  0 &  0 &  8370\\\\\n\t 1000001 & P00248942 & F & 10 & A & 2 & 0 &  1 &  6 & 14 & 15200\\\\\n\t 1000001 & P00087842 & F & 10 & A & 2 & 0 & 12 &  0 &  0 &  1422\\\\\n\t 1000001 & P00085442 & F & 10 & A & 2 & 0 & 12 & 14 &  0 &  1057\\\\\n\t 1000002 & P00285442 & M & 16 & C & 6 & 0 &  8 &  0 &  0 &  7969\\\\\n\t 1000003 & P00193542 & M & 15 & A & 3 & 0 &  1 &  2 &  0 & 15227\\\\\n\t 1000004 & P00184942 & M &  7 & B & 2 & 1 &  1 &  8 & 17 & 19215\\\\\n\t 1000004 & P00346142 & M &  7 & B & 2 & 1 &  1 & 15 &  0 & 15854\\\\\n\t 1000004 & P0097242  & M &  7 & B & 2 & 1 &  1 & 16 &  0 & 15686\\\\\n\t 1000005 & P00274942 & M & 20 & A & 1 & 1 &  8 &  0 &  0 &  7871\\\\\n\t 1000005 & P00251242 & M & 20 & A & 1 & 1 &  5 & 11 &  0 &  5254\\\\\n\t 1000005 & P00014542 & M & 20 & A & 1 & 1 &  8 &  0 &  0 &  3957\\\\\n\t 1000005 & P00031342 & M & 20 & A & 1 & 1 &  8 &  0 &  0 &  6073\\\\\n\t 1000005 & P00145042 & M & 20 & A & 1 & 1 &  1 &  2 &  5 & 15665\\\\\n\t 1000006 & P00231342 & F &  9 & A & 1 & 0 &  5 &  8 & 14 &  5378\\\\\n\t 1000006 & P00190242 & F &  9 & A & 1 & 0 &  4 &  5 &  0 &  2079\\\\\n\t 1000006 & P0096642  & F &  9 & A & 1 & 0 &  2 &  3 &  4 & 13055\\\\\n\t 1000006 & P00058442 & F &  9 & A & 1 & 0 &  5 & 14 &  0 &  8851\\\\\n\t 1000007 & P00036842 & M &  1 & B & 1 & 1 &  1 & 14 & 16 & 11788\\\\\n\t 1000008 & P00249542 & M & 12 & C & 6 & 1 &  1 &  5 & 15 & 19614\\\\\n\t 1000008 & P00220442 & M & 12 & C & 6 & 1 &  5 & 14 &  0 &  8584\\\\\n\t 1000008 & P00156442 & M & 12 & C & 6 & 1 &  8 &  0 &  0 &  9872\\\\\n\t 1000008 & P00213742 & M & 12 & C & 6 & 1 &  8 &  0 &  0 &  9743\\\\\n\t 1000008 & P00214442 & M & 12 & C & 6 & 1 &  8 &  0 &  0 &  5982\\\\\n\t 1000008 & P00303442 & M & 12 & C & 6 & 1 &  1 &  8 & 14 & 11927\\\\\n\t 1000009 & P00135742 & M & 17 & C & 0 & 0 &  6 &  8 &  0 & 16662\\\\\n\t 1000009 & P00039942 & M & 17 & C & 0 & 0 &  8 &  0 &  0 &  5887\\\\\n\t 1000009 & P00161442 & M & 17 & C & 0 & 0 &  5 & 14 &  0 &  6973\\\\\n\t 1000009 & P00078742 & M & 17 & C & 0 & 0 &  5 &  8 & 14 &  5391\\\\\n\t 1000010 & P00085942 & F &  1 & B & 6 & 1 &  2 &  4 &  8 & 16352\\\\\n\t ⋮ & ⋮ & ⋮ & ⋮ & ⋮ & ⋮ & ⋮ & ⋮ & ⋮ & ⋮ & ⋮\\\\\n\t 1005995 & P00375436 & F &  1 & C & 2 & 1 & 20 & 0 & 0 & 596\\\\\n\t 1005996 & P00371644 & F &  0 & B & 1 & 1 & 20 & 0 & 0 & 595\\\\\n\t 1005997 & P00370853 & F &  7 & A & 3 & 0 & 19 & 0 & 0 &  26\\\\\n\t 1006000 & P00371644 & M & 17 & B & 2 & 1 & 20 & 0 & 0 & 488\\\\\n\t 1006002 & P00371644 & M &  0 & C & 1 & 1 & 20 & 0 & 0 & 243\\\\\n\t 1006003 & P00370293 & F & 17 & C & 1 & 0 & 19 & 0 & 0 &  48\\\\\n\t 1006004 & P00370853 & F & 15 & C & 2 & 0 & 19 & 0 & 0 &  62\\\\\n\t 1006005 & P00371644 & F &  5 & C & 2 & 1 & 20 & 0 & 0 & 252\\\\\n\t 1006006 & P00375436 & F &  0 & C & 1 & 0 & 20 & 0 & 0 & 236\\\\\n\t 1006009 & P00372445 & F & 12 & C & 3 & 0 & 20 & 0 & 0 & 244\\\\\n\t 1006010 & P00371644 & M &  0 & C & 1 & 0 & 20 & 0 & 0 & 591\\\\\n\t 1006011 & P00375436 & M & 15 & C & 3 & 0 & 20 & 0 & 0 & 473\\\\\n\t 1006012 & P00371644 & M & 15 & C & 6 & 1 & 20 & 0 & 0 & 368\\\\\n\t 1006013 & P00375436 & F & 20 & C & 3 & 0 & 20 & 0 & 0 & 489\\\\\n\t 1006016 & P00375436 & M &  1 & B & 1 & 1 & 20 & 0 & 0 & 239\\\\\n\t 1006017 & P00371644 & F &  7 & B & 1 & 0 & 20 & 0 & 0 & 371\\\\\n\t 1006018 & P00370293 & M &  1 & C & 3 & 0 & 19 & 0 & 0 &  60\\\\\n\t 1006019 & P00372445 & M &  0 & A & 6 & 0 & 20 & 0 & 0 & 238\\\\\n\t 1006022 & P00375436 & M & 17 & C & 6 & 0 & 20 & 0 & 0 & 254\\\\\n\t 1006023 & P00370853 & M &  0 & C & 2 & 1 & 19 & 0 & 0 &  61\\\\\n\t 1006024 & P00372445 & M & 12 & A & 0 & 1 & 20 & 0 & 0 & 121\\\\\n\t 1006025 & P00370853 & F &  1 & B & 1 & 0 & 19 & 0 & 0 &  48\\\\\n\t 1006026 & P00371644 & M &  6 & C & 1 & 1 & 20 & 0 & 0 & 494\\\\\n\t 1006029 & P00372445 & F &  1 & C & 1 & 1 & 20 & 0 & 0 & 599\\\\\n\t 1006032 & P00372445 & M &  7 & A & 3 & 0 & 20 & 0 & 0 & 473\\\\\n\t 1006033 & P00372445 & M & 13 & B & 1 & 1 & 20 & 0 & 0 & 368\\\\\n\t 1006035 & P00375436 & F &  1 & C & 3 & 0 & 20 & 0 & 0 & 371\\\\\n\t 1006036 & P00375436 & F & 15 & B & 6 & 1 & 20 & 0 & 0 & 137\\\\\n\t 1006038 & P00375436 & F &  1 & C & 2 & 0 & 20 & 0 & 0 & 365\\\\\n\t 1006039 & P00371644 & F &  0 & B & 6 & 1 & 20 & 0 & 0 & 490\\\\\n\\end{tabular}\n",
            "text/markdown": "\nA tibble: 550068 × 11\n\n| user.id &lt;int&gt; | product.id &lt;chr&gt; | gender &lt;chr&gt; | occupation &lt;int&gt; | city &lt;chr&gt; | years.in.current.city &lt;dbl&gt; | marital.status &lt;int&gt; | product.category.1 &lt;int&gt; | product.category.2 &lt;dbl&gt; | product.category.3 &lt;dbl&gt; | purchase &lt;int&gt; |\n|---|---|---|---|---|---|---|---|---|---|---|\n| 1000001 | P00069042 | F | 10 | A | 2 | 0 |  3 |  0 |  0 |  8370 |\n| 1000001 | P00248942 | F | 10 | A | 2 | 0 |  1 |  6 | 14 | 15200 |\n| 1000001 | P00087842 | F | 10 | A | 2 | 0 | 12 |  0 |  0 |  1422 |\n| 1000001 | P00085442 | F | 10 | A | 2 | 0 | 12 | 14 |  0 |  1057 |\n| 1000002 | P00285442 | M | 16 | C | 6 | 0 |  8 |  0 |  0 |  7969 |\n| 1000003 | P00193542 | M | 15 | A | 3 | 0 |  1 |  2 |  0 | 15227 |\n| 1000004 | P00184942 | M |  7 | B | 2 | 1 |  1 |  8 | 17 | 19215 |\n| 1000004 | P00346142 | M |  7 | B | 2 | 1 |  1 | 15 |  0 | 15854 |\n| 1000004 | P0097242  | M |  7 | B | 2 | 1 |  1 | 16 |  0 | 15686 |\n| 1000005 | P00274942 | M | 20 | A | 1 | 1 |  8 |  0 |  0 |  7871 |\n| 1000005 | P00251242 | M | 20 | A | 1 | 1 |  5 | 11 |  0 |  5254 |\n| 1000005 | P00014542 | M | 20 | A | 1 | 1 |  8 |  0 |  0 |  3957 |\n| 1000005 | P00031342 | M | 20 | A | 1 | 1 |  8 |  0 |  0 |  6073 |\n| 1000005 | P00145042 | M | 20 | A | 1 | 1 |  1 |  2 |  5 | 15665 |\n| 1000006 | P00231342 | F |  9 | A | 1 | 0 |  5 |  8 | 14 |  5378 |\n| 1000006 | P00190242 | F |  9 | A | 1 | 0 |  4 |  5 |  0 |  2079 |\n| 1000006 | P0096642  | F |  9 | A | 1 | 0 |  2 |  3 |  4 | 13055 |\n| 1000006 | P00058442 | F |  9 | A | 1 | 0 |  5 | 14 |  0 |  8851 |\n| 1000007 | P00036842 | M |  1 | B | 1 | 1 |  1 | 14 | 16 | 11788 |\n| 1000008 | P00249542 | M | 12 | C | 6 | 1 |  1 |  5 | 15 | 19614 |\n| 1000008 | P00220442 | M | 12 | C | 6 | 1 |  5 | 14 |  0 |  8584 |\n| 1000008 | P00156442 | M | 12 | C | 6 | 1 |  8 |  0 |  0 |  9872 |\n| 1000008 | P00213742 | M | 12 | C | 6 | 1 |  8 |  0 |  0 |  9743 |\n| 1000008 | P00214442 | M | 12 | C | 6 | 1 |  8 |  0 |  0 |  5982 |\n| 1000008 | P00303442 | M | 12 | C | 6 | 1 |  1 |  8 | 14 | 11927 |\n| 1000009 | P00135742 | M | 17 | C | 0 | 0 |  6 |  8 |  0 | 16662 |\n| 1000009 | P00039942 | M | 17 | C | 0 | 0 |  8 |  0 |  0 |  5887 |\n| 1000009 | P00161442 | M | 17 | C | 0 | 0 |  5 | 14 |  0 |  6973 |\n| 1000009 | P00078742 | M | 17 | C | 0 | 0 |  5 |  8 | 14 |  5391 |\n| 1000010 | P00085942 | F |  1 | B | 6 | 1 |  2 |  4 |  8 | 16352 |\n| ⋮ | ⋮ | ⋮ | ⋮ | ⋮ | ⋮ | ⋮ | ⋮ | ⋮ | ⋮ | ⋮ |\n| 1005995 | P00375436 | F |  1 | C | 2 | 1 | 20 | 0 | 0 | 596 |\n| 1005996 | P00371644 | F |  0 | B | 1 | 1 | 20 | 0 | 0 | 595 |\n| 1005997 | P00370853 | F |  7 | A | 3 | 0 | 19 | 0 | 0 |  26 |\n| 1006000 | P00371644 | M | 17 | B | 2 | 1 | 20 | 0 | 0 | 488 |\n| 1006002 | P00371644 | M |  0 | C | 1 | 1 | 20 | 0 | 0 | 243 |\n| 1006003 | P00370293 | F | 17 | C | 1 | 0 | 19 | 0 | 0 |  48 |\n| 1006004 | P00370853 | F | 15 | C | 2 | 0 | 19 | 0 | 0 |  62 |\n| 1006005 | P00371644 | F |  5 | C | 2 | 1 | 20 | 0 | 0 | 252 |\n| 1006006 | P00375436 | F |  0 | C | 1 | 0 | 20 | 0 | 0 | 236 |\n| 1006009 | P00372445 | F | 12 | C | 3 | 0 | 20 | 0 | 0 | 244 |\n| 1006010 | P00371644 | M |  0 | C | 1 | 0 | 20 | 0 | 0 | 591 |\n| 1006011 | P00375436 | M | 15 | C | 3 | 0 | 20 | 0 | 0 | 473 |\n| 1006012 | P00371644 | M | 15 | C | 6 | 1 | 20 | 0 | 0 | 368 |\n| 1006013 | P00375436 | F | 20 | C | 3 | 0 | 20 | 0 | 0 | 489 |\n| 1006016 | P00375436 | M |  1 | B | 1 | 1 | 20 | 0 | 0 | 239 |\n| 1006017 | P00371644 | F |  7 | B | 1 | 0 | 20 | 0 | 0 | 371 |\n| 1006018 | P00370293 | M |  1 | C | 3 | 0 | 19 | 0 | 0 |  60 |\n| 1006019 | P00372445 | M |  0 | A | 6 | 0 | 20 | 0 | 0 | 238 |\n| 1006022 | P00375436 | M | 17 | C | 6 | 0 | 20 | 0 | 0 | 254 |\n| 1006023 | P00370853 | M |  0 | C | 2 | 1 | 19 | 0 | 0 |  61 |\n| 1006024 | P00372445 | M | 12 | A | 0 | 1 | 20 | 0 | 0 | 121 |\n| 1006025 | P00370853 | F |  1 | B | 1 | 0 | 19 | 0 | 0 |  48 |\n| 1006026 | P00371644 | M |  6 | C | 1 | 1 | 20 | 0 | 0 | 494 |\n| 1006029 | P00372445 | F |  1 | C | 1 | 1 | 20 | 0 | 0 | 599 |\n| 1006032 | P00372445 | M |  7 | A | 3 | 0 | 20 | 0 | 0 | 473 |\n| 1006033 | P00372445 | M | 13 | B | 1 | 1 | 20 | 0 | 0 | 368 |\n| 1006035 | P00375436 | F |  1 | C | 3 | 0 | 20 | 0 | 0 | 371 |\n| 1006036 | P00375436 | F | 15 | B | 6 | 1 | 20 | 0 | 0 | 137 |\n| 1006038 | P00375436 | F |  1 | C | 2 | 0 | 20 | 0 | 0 | 365 |\n| 1006039 | P00371644 | F |  0 | B | 6 | 1 | 20 | 0 | 0 | 490 |\n\n",
            "text/html": [
              "<table class=\"dataframe\">\n",
              "<caption>A tibble: 550068 × 11</caption>\n",
              "<thead>\n",
              "\t<tr><th scope=col>user.id</th><th scope=col>product.id</th><th scope=col>gender</th><th scope=col>occupation</th><th scope=col>city</th><th scope=col>years.in.current.city</th><th scope=col>marital.status</th><th scope=col>product.category.1</th><th scope=col>product.category.2</th><th scope=col>product.category.3</th><th scope=col>purchase</th></tr>\n",
              "\t<tr><th scope=col>&lt;int&gt;</th><th scope=col>&lt;chr&gt;</th><th scope=col>&lt;chr&gt;</th><th scope=col>&lt;int&gt;</th><th scope=col>&lt;chr&gt;</th><th scope=col>&lt;dbl&gt;</th><th scope=col>&lt;int&gt;</th><th scope=col>&lt;int&gt;</th><th scope=col>&lt;dbl&gt;</th><th scope=col>&lt;dbl&gt;</th><th scope=col>&lt;int&gt;</th></tr>\n",
              "</thead>\n",
              "<tbody>\n",
              "\t<tr><td>1000001</td><td>P00069042</td><td>F</td><td>10</td><td>A</td><td>2</td><td>0</td><td> 3</td><td> 0</td><td> 0</td><td> 8370</td></tr>\n",
              "\t<tr><td>1000001</td><td>P00248942</td><td>F</td><td>10</td><td>A</td><td>2</td><td>0</td><td> 1</td><td> 6</td><td>14</td><td>15200</td></tr>\n",
              "\t<tr><td>1000001</td><td>P00087842</td><td>F</td><td>10</td><td>A</td><td>2</td><td>0</td><td>12</td><td> 0</td><td> 0</td><td> 1422</td></tr>\n",
              "\t<tr><td>1000001</td><td>P00085442</td><td>F</td><td>10</td><td>A</td><td>2</td><td>0</td><td>12</td><td>14</td><td> 0</td><td> 1057</td></tr>\n",
              "\t<tr><td>1000002</td><td>P00285442</td><td>M</td><td>16</td><td>C</td><td>6</td><td>0</td><td> 8</td><td> 0</td><td> 0</td><td> 7969</td></tr>\n",
              "\t<tr><td>1000003</td><td>P00193542</td><td>M</td><td>15</td><td>A</td><td>3</td><td>0</td><td> 1</td><td> 2</td><td> 0</td><td>15227</td></tr>\n",
              "\t<tr><td>1000004</td><td>P00184942</td><td>M</td><td> 7</td><td>B</td><td>2</td><td>1</td><td> 1</td><td> 8</td><td>17</td><td>19215</td></tr>\n",
              "\t<tr><td>1000004</td><td>P00346142</td><td>M</td><td> 7</td><td>B</td><td>2</td><td>1</td><td> 1</td><td>15</td><td> 0</td><td>15854</td></tr>\n",
              "\t<tr><td>1000004</td><td>P0097242 </td><td>M</td><td> 7</td><td>B</td><td>2</td><td>1</td><td> 1</td><td>16</td><td> 0</td><td>15686</td></tr>\n",
              "\t<tr><td>1000005</td><td>P00274942</td><td>M</td><td>20</td><td>A</td><td>1</td><td>1</td><td> 8</td><td> 0</td><td> 0</td><td> 7871</td></tr>\n",
              "\t<tr><td>1000005</td><td>P00251242</td><td>M</td><td>20</td><td>A</td><td>1</td><td>1</td><td> 5</td><td>11</td><td> 0</td><td> 5254</td></tr>\n",
              "\t<tr><td>1000005</td><td>P00014542</td><td>M</td><td>20</td><td>A</td><td>1</td><td>1</td><td> 8</td><td> 0</td><td> 0</td><td> 3957</td></tr>\n",
              "\t<tr><td>1000005</td><td>P00031342</td><td>M</td><td>20</td><td>A</td><td>1</td><td>1</td><td> 8</td><td> 0</td><td> 0</td><td> 6073</td></tr>\n",
              "\t<tr><td>1000005</td><td>P00145042</td><td>M</td><td>20</td><td>A</td><td>1</td><td>1</td><td> 1</td><td> 2</td><td> 5</td><td>15665</td></tr>\n",
              "\t<tr><td>1000006</td><td>P00231342</td><td>F</td><td> 9</td><td>A</td><td>1</td><td>0</td><td> 5</td><td> 8</td><td>14</td><td> 5378</td></tr>\n",
              "\t<tr><td>1000006</td><td>P00190242</td><td>F</td><td> 9</td><td>A</td><td>1</td><td>0</td><td> 4</td><td> 5</td><td> 0</td><td> 2079</td></tr>\n",
              "\t<tr><td>1000006</td><td>P0096642 </td><td>F</td><td> 9</td><td>A</td><td>1</td><td>0</td><td> 2</td><td> 3</td><td> 4</td><td>13055</td></tr>\n",
              "\t<tr><td>1000006</td><td>P00058442</td><td>F</td><td> 9</td><td>A</td><td>1</td><td>0</td><td> 5</td><td>14</td><td> 0</td><td> 8851</td></tr>\n",
              "\t<tr><td>1000007</td><td>P00036842</td><td>M</td><td> 1</td><td>B</td><td>1</td><td>1</td><td> 1</td><td>14</td><td>16</td><td>11788</td></tr>\n",
              "\t<tr><td>1000008</td><td>P00249542</td><td>M</td><td>12</td><td>C</td><td>6</td><td>1</td><td> 1</td><td> 5</td><td>15</td><td>19614</td></tr>\n",
              "\t<tr><td>1000008</td><td>P00220442</td><td>M</td><td>12</td><td>C</td><td>6</td><td>1</td><td> 5</td><td>14</td><td> 0</td><td> 8584</td></tr>\n",
              "\t<tr><td>1000008</td><td>P00156442</td><td>M</td><td>12</td><td>C</td><td>6</td><td>1</td><td> 8</td><td> 0</td><td> 0</td><td> 9872</td></tr>\n",
              "\t<tr><td>1000008</td><td>P00213742</td><td>M</td><td>12</td><td>C</td><td>6</td><td>1</td><td> 8</td><td> 0</td><td> 0</td><td> 9743</td></tr>\n",
              "\t<tr><td>1000008</td><td>P00214442</td><td>M</td><td>12</td><td>C</td><td>6</td><td>1</td><td> 8</td><td> 0</td><td> 0</td><td> 5982</td></tr>\n",
              "\t<tr><td>1000008</td><td>P00303442</td><td>M</td><td>12</td><td>C</td><td>6</td><td>1</td><td> 1</td><td> 8</td><td>14</td><td>11927</td></tr>\n",
              "\t<tr><td>1000009</td><td>P00135742</td><td>M</td><td>17</td><td>C</td><td>0</td><td>0</td><td> 6</td><td> 8</td><td> 0</td><td>16662</td></tr>\n",
              "\t<tr><td>1000009</td><td>P00039942</td><td>M</td><td>17</td><td>C</td><td>0</td><td>0</td><td> 8</td><td> 0</td><td> 0</td><td> 5887</td></tr>\n",
              "\t<tr><td>1000009</td><td>P00161442</td><td>M</td><td>17</td><td>C</td><td>0</td><td>0</td><td> 5</td><td>14</td><td> 0</td><td> 6973</td></tr>\n",
              "\t<tr><td>1000009</td><td>P00078742</td><td>M</td><td>17</td><td>C</td><td>0</td><td>0</td><td> 5</td><td> 8</td><td>14</td><td> 5391</td></tr>\n",
              "\t<tr><td>1000010</td><td>P00085942</td><td>F</td><td> 1</td><td>B</td><td>6</td><td>1</td><td> 2</td><td> 4</td><td> 8</td><td>16352</td></tr>\n",
              "\t<tr><td>⋮</td><td>⋮</td><td>⋮</td><td>⋮</td><td>⋮</td><td>⋮</td><td>⋮</td><td>⋮</td><td>⋮</td><td>⋮</td><td>⋮</td></tr>\n",
              "\t<tr><td>1005995</td><td>P00375436</td><td>F</td><td> 1</td><td>C</td><td>2</td><td>1</td><td>20</td><td>0</td><td>0</td><td>596</td></tr>\n",
              "\t<tr><td>1005996</td><td>P00371644</td><td>F</td><td> 0</td><td>B</td><td>1</td><td>1</td><td>20</td><td>0</td><td>0</td><td>595</td></tr>\n",
              "\t<tr><td>1005997</td><td>P00370853</td><td>F</td><td> 7</td><td>A</td><td>3</td><td>0</td><td>19</td><td>0</td><td>0</td><td> 26</td></tr>\n",
              "\t<tr><td>1006000</td><td>P00371644</td><td>M</td><td>17</td><td>B</td><td>2</td><td>1</td><td>20</td><td>0</td><td>0</td><td>488</td></tr>\n",
              "\t<tr><td>1006002</td><td>P00371644</td><td>M</td><td> 0</td><td>C</td><td>1</td><td>1</td><td>20</td><td>0</td><td>0</td><td>243</td></tr>\n",
              "\t<tr><td>1006003</td><td>P00370293</td><td>F</td><td>17</td><td>C</td><td>1</td><td>0</td><td>19</td><td>0</td><td>0</td><td> 48</td></tr>\n",
              "\t<tr><td>1006004</td><td>P00370853</td><td>F</td><td>15</td><td>C</td><td>2</td><td>0</td><td>19</td><td>0</td><td>0</td><td> 62</td></tr>\n",
              "\t<tr><td>1006005</td><td>P00371644</td><td>F</td><td> 5</td><td>C</td><td>2</td><td>1</td><td>20</td><td>0</td><td>0</td><td>252</td></tr>\n",
              "\t<tr><td>1006006</td><td>P00375436</td><td>F</td><td> 0</td><td>C</td><td>1</td><td>0</td><td>20</td><td>0</td><td>0</td><td>236</td></tr>\n",
              "\t<tr><td>1006009</td><td>P00372445</td><td>F</td><td>12</td><td>C</td><td>3</td><td>0</td><td>20</td><td>0</td><td>0</td><td>244</td></tr>\n",
              "\t<tr><td>1006010</td><td>P00371644</td><td>M</td><td> 0</td><td>C</td><td>1</td><td>0</td><td>20</td><td>0</td><td>0</td><td>591</td></tr>\n",
              "\t<tr><td>1006011</td><td>P00375436</td><td>M</td><td>15</td><td>C</td><td>3</td><td>0</td><td>20</td><td>0</td><td>0</td><td>473</td></tr>\n",
              "\t<tr><td>1006012</td><td>P00371644</td><td>M</td><td>15</td><td>C</td><td>6</td><td>1</td><td>20</td><td>0</td><td>0</td><td>368</td></tr>\n",
              "\t<tr><td>1006013</td><td>P00375436</td><td>F</td><td>20</td><td>C</td><td>3</td><td>0</td><td>20</td><td>0</td><td>0</td><td>489</td></tr>\n",
              "\t<tr><td>1006016</td><td>P00375436</td><td>M</td><td> 1</td><td>B</td><td>1</td><td>1</td><td>20</td><td>0</td><td>0</td><td>239</td></tr>\n",
              "\t<tr><td>1006017</td><td>P00371644</td><td>F</td><td> 7</td><td>B</td><td>1</td><td>0</td><td>20</td><td>0</td><td>0</td><td>371</td></tr>\n",
              "\t<tr><td>1006018</td><td>P00370293</td><td>M</td><td> 1</td><td>C</td><td>3</td><td>0</td><td>19</td><td>0</td><td>0</td><td> 60</td></tr>\n",
              "\t<tr><td>1006019</td><td>P00372445</td><td>M</td><td> 0</td><td>A</td><td>6</td><td>0</td><td>20</td><td>0</td><td>0</td><td>238</td></tr>\n",
              "\t<tr><td>1006022</td><td>P00375436</td><td>M</td><td>17</td><td>C</td><td>6</td><td>0</td><td>20</td><td>0</td><td>0</td><td>254</td></tr>\n",
              "\t<tr><td>1006023</td><td>P00370853</td><td>M</td><td> 0</td><td>C</td><td>2</td><td>1</td><td>19</td><td>0</td><td>0</td><td> 61</td></tr>\n",
              "\t<tr><td>1006024</td><td>P00372445</td><td>M</td><td>12</td><td>A</td><td>0</td><td>1</td><td>20</td><td>0</td><td>0</td><td>121</td></tr>\n",
              "\t<tr><td>1006025</td><td>P00370853</td><td>F</td><td> 1</td><td>B</td><td>1</td><td>0</td><td>19</td><td>0</td><td>0</td><td> 48</td></tr>\n",
              "\t<tr><td>1006026</td><td>P00371644</td><td>M</td><td> 6</td><td>C</td><td>1</td><td>1</td><td>20</td><td>0</td><td>0</td><td>494</td></tr>\n",
              "\t<tr><td>1006029</td><td>P00372445</td><td>F</td><td> 1</td><td>C</td><td>1</td><td>1</td><td>20</td><td>0</td><td>0</td><td>599</td></tr>\n",
              "\t<tr><td>1006032</td><td>P00372445</td><td>M</td><td> 7</td><td>A</td><td>3</td><td>0</td><td>20</td><td>0</td><td>0</td><td>473</td></tr>\n",
              "\t<tr><td>1006033</td><td>P00372445</td><td>M</td><td>13</td><td>B</td><td>1</td><td>1</td><td>20</td><td>0</td><td>0</td><td>368</td></tr>\n",
              "\t<tr><td>1006035</td><td>P00375436</td><td>F</td><td> 1</td><td>C</td><td>3</td><td>0</td><td>20</td><td>0</td><td>0</td><td>371</td></tr>\n",
              "\t<tr><td>1006036</td><td>P00375436</td><td>F</td><td>15</td><td>B</td><td>6</td><td>1</td><td>20</td><td>0</td><td>0</td><td>137</td></tr>\n",
              "\t<tr><td>1006038</td><td>P00375436</td><td>F</td><td> 1</td><td>C</td><td>2</td><td>0</td><td>20</td><td>0</td><td>0</td><td>365</td></tr>\n",
              "\t<tr><td>1006039</td><td>P00371644</td><td>F</td><td> 0</td><td>B</td><td>6</td><td>1</td><td>20</td><td>0</td><td>0</td><td>490</td></tr>\n",
              "</tbody>\n",
              "</table>\n"
            ]
          },
          "metadata": {}
        },
        {
          "output_type": "stream",
          "name": "stdout",
          "text": [
            "[1] \"Average year a shopper stayed in the current city\"\n",
            "[1] \"For A\"\n"
          ]
        },
        {
          "output_type": "display_data",
          "data": {
            "text/plain": [
              "  mean(years.in.current.city)\n",
              "1 2.11                       "
            ],
            "text/latex": "A tibble: 1 × 1\n\\begin{tabular}{l}\n mean(years.in.current.city)\\\\\n <dbl>\\\\\n\\hline\n\t 2.11\\\\\n\\end{tabular}\n",
            "text/markdown": "\nA tibble: 1 × 1\n\n| mean(years.in.current.city) &lt;dbl&gt; |\n|---|\n| 2.11 |\n\n",
            "text/html": [
              "<table class=\"dataframe\">\n",
              "<caption>A tibble: 1 × 1</caption>\n",
              "<thead>\n",
              "\t<tr><th scope=col>mean(years.in.current.city)</th></tr>\n",
              "\t<tr><th scope=col>&lt;dbl&gt;</th></tr>\n",
              "</thead>\n",
              "<tbody>\n",
              "\t<tr><td>2.11</td></tr>\n",
              "</tbody>\n",
              "</table>\n"
            ]
          },
          "metadata": {}
        },
        {
          "output_type": "stream",
          "name": "stdout",
          "text": [
            "[1] \"For B\"\n"
          ]
        },
        {
          "output_type": "display_data",
          "data": {
            "text/plain": [
              "  mean(years.in.current.city)\n",
              "1 2.17                       "
            ],
            "text/latex": "A tibble: 1 × 1\n\\begin{tabular}{l}\n mean(years.in.current.city)\\\\\n <dbl>\\\\\n\\hline\n\t 2.17\\\\\n\\end{tabular}\n",
            "text/markdown": "\nA tibble: 1 × 1\n\n| mean(years.in.current.city) &lt;dbl&gt; |\n|---|\n| 2.17 |\n\n",
            "text/html": [
              "<table class=\"dataframe\">\n",
              "<caption>A tibble: 1 × 1</caption>\n",
              "<thead>\n",
              "\t<tr><th scope=col>mean(years.in.current.city)</th></tr>\n",
              "\t<tr><th scope=col>&lt;dbl&gt;</th></tr>\n",
              "</thead>\n",
              "<tbody>\n",
              "\t<tr><td>2.17</td></tr>\n",
              "</tbody>\n",
              "</table>\n"
            ]
          },
          "metadata": {}
        },
        {
          "output_type": "stream",
          "name": "stdout",
          "text": [
            "[1] \"For C\"\n"
          ]
        },
        {
          "output_type": "display_data",
          "data": {
            "text/plain": [
              "  mean(years.in.current.city)\n",
              "1 2.2                        "
            ],
            "text/latex": "A tibble: 1 × 1\n\\begin{tabular}{l}\n mean(years.in.current.city)\\\\\n <dbl>\\\\\n\\hline\n\t 2.2\\\\\n\\end{tabular}\n",
            "text/markdown": "\nA tibble: 1 × 1\n\n| mean(years.in.current.city) &lt;dbl&gt; |\n|---|\n| 2.2 |\n\n",
            "text/html": [
              "<table class=\"dataframe\">\n",
              "<caption>A tibble: 1 × 1</caption>\n",
              "<thead>\n",
              "\t<tr><th scope=col>mean(years.in.current.city)</th></tr>\n",
              "\t<tr><th scope=col>&lt;dbl&gt;</th></tr>\n",
              "</thead>\n",
              "<tbody>\n",
              "\t<tr><td>2.2</td></tr>\n",
              "</tbody>\n",
              "</table>\n"
            ]
          },
          "metadata": {}
        },
        {
          "output_type": "stream",
          "name": "stdout",
          "text": [
            "[1] \"Average Purchase made in each City Category on the basis of Stay in the Current City\"\n",
            "[1] \"For A\"\n"
          ]
        },
        {
          "output_type": "display_data",
          "data": {
            "text/plain": [
              "  years.in.current.city mean(purchase)\n",
              "1 0                     8987          \n",
              "2 1                     8879          \n",
              "3 2                     8970          \n",
              "4 3                     8915          \n",
              "5 6                     8830          "
            ],
            "text/latex": "A tibble: 5 × 2\n\\begin{tabular}{ll}\n years.in.current.city & mean(purchase)\\\\\n <dbl> & <dbl>\\\\\n\\hline\n\t 0 & 8987\\\\\n\t 1 & 8879\\\\\n\t 2 & 8970\\\\\n\t 3 & 8915\\\\\n\t 6 & 8830\\\\\n\\end{tabular}\n",
            "text/markdown": "\nA tibble: 5 × 2\n\n| years.in.current.city &lt;dbl&gt; | mean(purchase) &lt;dbl&gt; |\n|---|---|\n| 0 | 8987 |\n| 1 | 8879 |\n| 2 | 8970 |\n| 3 | 8915 |\n| 6 | 8830 |\n\n",
            "text/html": [
              "<table class=\"dataframe\">\n",
              "<caption>A tibble: 5 × 2</caption>\n",
              "<thead>\n",
              "\t<tr><th scope=col>years.in.current.city</th><th scope=col>mean(purchase)</th></tr>\n",
              "\t<tr><th scope=col>&lt;dbl&gt;</th><th scope=col>&lt;dbl&gt;</th></tr>\n",
              "</thead>\n",
              "<tbody>\n",
              "\t<tr><td>0</td><td>8987</td></tr>\n",
              "\t<tr><td>1</td><td>8879</td></tr>\n",
              "\t<tr><td>2</td><td>8970</td></tr>\n",
              "\t<tr><td>3</td><td>8915</td></tr>\n",
              "\t<tr><td>6</td><td>8830</td></tr>\n",
              "</tbody>\n",
              "</table>\n"
            ]
          },
          "metadata": {}
        },
        {
          "output_type": "stream",
          "name": "stdout",
          "text": [
            "[1] \"For B\"\n"
          ]
        },
        {
          "output_type": "display_data",
          "data": {
            "text/plain": [
              "  years.in.current.city mean(purchase)\n",
              "1 0                     8903          \n",
              "2 1                     9179          \n",
              "3 2                     9193          \n",
              "4 3                     9190          \n",
              "5 6                     9193          "
            ],
            "text/latex": "A tibble: 5 × 2\n\\begin{tabular}{ll}\n years.in.current.city & mean(purchase)\\\\\n <dbl> & <dbl>\\\\\n\\hline\n\t 0 & 8903\\\\\n\t 1 & 9179\\\\\n\t 2 & 9193\\\\\n\t 3 & 9190\\\\\n\t 6 & 9193\\\\\n\\end{tabular}\n",
            "text/markdown": "\nA tibble: 5 × 2\n\n| years.in.current.city &lt;dbl&gt; | mean(purchase) &lt;dbl&gt; |\n|---|---|\n| 0 | 8903 |\n| 1 | 9179 |\n| 2 | 9193 |\n| 3 | 9190 |\n| 6 | 9193 |\n\n",
            "text/html": [
              "<table class=\"dataframe\">\n",
              "<caption>A tibble: 5 × 2</caption>\n",
              "<thead>\n",
              "\t<tr><th scope=col>years.in.current.city</th><th scope=col>mean(purchase)</th></tr>\n",
              "\t<tr><th scope=col>&lt;dbl&gt;</th><th scope=col>&lt;dbl&gt;</th></tr>\n",
              "</thead>\n",
              "<tbody>\n",
              "\t<tr><td>0</td><td>8903</td></tr>\n",
              "\t<tr><td>1</td><td>9179</td></tr>\n",
              "\t<tr><td>2</td><td>9193</td></tr>\n",
              "\t<tr><td>3</td><td>9190</td></tr>\n",
              "\t<tr><td>6</td><td>9193</td></tr>\n",
              "</tbody>\n",
              "</table>\n"
            ]
          },
          "metadata": {}
        },
        {
          "output_type": "stream",
          "name": "stdout",
          "text": [
            "[1] \"For C\"\n"
          ]
        },
        {
          "output_type": "display_data",
          "data": {
            "text/plain": [
              "  years.in.current.city mean(purchase)\n",
              "1 0                     9767          \n",
              "2 1                     9647          \n",
              "3 2                     9770          \n",
              "4 3                     9768          \n",
              "5 6                     9737          "
            ],
            "text/latex": "A tibble: 5 × 2\n\\begin{tabular}{ll}\n years.in.current.city & mean(purchase)\\\\\n <dbl> & <dbl>\\\\\n\\hline\n\t 0 & 9767\\\\\n\t 1 & 9647\\\\\n\t 2 & 9770\\\\\n\t 3 & 9768\\\\\n\t 6 & 9737\\\\\n\\end{tabular}\n",
            "text/markdown": "\nA tibble: 5 × 2\n\n| years.in.current.city &lt;dbl&gt; | mean(purchase) &lt;dbl&gt; |\n|---|---|\n| 0 | 9767 |\n| 1 | 9647 |\n| 2 | 9770 |\n| 3 | 9768 |\n| 6 | 9737 |\n\n",
            "text/html": [
              "<table class=\"dataframe\">\n",
              "<caption>A tibble: 5 × 2</caption>\n",
              "<thead>\n",
              "\t<tr><th scope=col>years.in.current.city</th><th scope=col>mean(purchase)</th></tr>\n",
              "\t<tr><th scope=col>&lt;dbl&gt;</th><th scope=col>&lt;dbl&gt;</th></tr>\n",
              "</thead>\n",
              "<tbody>\n",
              "\t<tr><td>0</td><td>9767</td></tr>\n",
              "\t<tr><td>1</td><td>9647</td></tr>\n",
              "\t<tr><td>2</td><td>9770</td></tr>\n",
              "\t<tr><td>3</td><td>9768</td></tr>\n",
              "\t<tr><td>6</td><td>9737</td></tr>\n",
              "</tbody>\n",
              "</table>\n"
            ]
          },
          "metadata": {}
        },
        {
          "output_type": "stream",
          "name": "stdout",
          "text": [
            "[1] \"We analyzed following points and could use them to increase our sales in next black friday\"\n",
            "[1] \"Number of Male Shoppers > Female Shoppers\"\n",
            "[1] \"Products in Product Category 2 sold most\"\n",
            "[1] \"People generally spent over $5000 in sales\"\n",
            "[1] \"People in age range 26-35 purchase most\"\n",
            "[1] \"There are highest average sales in City Category 'C' as compared to other\"\n",
            "[1] \"Unequal Probability sampling technique could be used over this dataset for best results\"\n"
          ]
        }
      ]
    }
  ]
}